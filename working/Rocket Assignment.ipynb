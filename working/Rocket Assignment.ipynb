{
 "cells": [
  {
   "cell_type": "markdown",
   "metadata": {},
   "source": [
    "Module 1: Rocket Flight"
   ]
  },
  {
   "cell_type": "code",
   "execution_count": 376,
   "metadata": {
    "collapsed": false
   },
   "outputs": [],
   "source": [
    "import numpy \n",
    "from matplotlib import pyplot\n",
    "%matplotlib inline"
   ]
  },
  {
   "cell_type": "markdown",
   "metadata": {},
   "source": [
    "Equations de la roquette pour un mouvement purement vertical:\n",
    "\n",
    "\\begin{align} \\frac{dh}{dt} &= v\\\\ (m_s+m_p) \\frac{dv}{dt}& = -(m_s+m_p)g + \\dot{m}_pv_e - \\frac{1}{2}\\rho v|v|AC_D \\end{align}"
   ]
  },
  {
   "cell_type": "markdown",
   "metadata": {},
   "source": [
    "Valeurs initiales du problème:"
   ]
  },
  {
   "cell_type": "code",
   "execution_count": 377,
   "metadata": {
    "collapsed": true
   },
   "outputs": [],
   "source": [
    "ms = 50 # Masse de la rocket en kg\n",
    "g = 9.81 # valeur de l'accélération gravitationnelle en m/s²\n",
    "d = 1.091 # densité de l'air en kg/m³\n",
    "r = 0.5 # rayon de la roquette en m\n",
    "A = (numpy.pi)*(0.5**2) # aire de la roquette en m²\n",
    "ve = 325 # vitesse d'éjection du gaz en m/s\n",
    "Cd = 0.15 # coefficient de frottement de l'air\n",
    "mpo = 100 # masse initial du carburant en kg\n",
    "h0 = 0 # hauteur initiale en m\n",
    "v0 = 0 # vitesse initiale en m/s"
   ]
  },
  {
   "cell_type": "markdown",
   "metadata": {},
   "source": [
    "Création d'une échelle de temps et d'une liste vide u à deux dimensions: "
   ]
  },
  {
   "cell_type": "code",
   "execution_count": 378,
   "metadata": {
    "collapsed": true
   },
   "outputs": [],
   "source": [
    "Te = 50         # Limite de l'échelle de temps\n",
    "dt = 0.1        # Graduation de l'échelle de temps                   \n",
    "N = int(Te/dt) + 1     # Nombre de graduations de l'échelles de temps             \n",
    "t = numpy.linspace(0, Te, N)     # Echelle de temps\n",
    "\n",
    "\n",
    "u = numpy.empty((N, 2))     # Liste à deux dimensions qui va reprendre l'altitude et la vitesse pour chaque graduation \n",
    "u[0] = numpy.array([h0,v0]) # Valeurs initiales de l'altitude et de la vitesse"
   ]
  },
  {
   "cell_type": "markdown",
   "metadata": {},
   "source": [
    "Définition de la fonction reprenant la variation de la masse du carburant:"
   ]
  },
  {
   "cell_type": "code",
   "execution_count": 379,
   "metadata": {
    "collapsed": false
   },
   "outputs": [],
   "source": [
    "def dmp(tp):\n",
    "    if tp < 5: # temps que le temps est inférieur à 5 secondes, la variation de la masse de carburant est égale à 20 kg/s\n",
    "        d_mp=20\n",
    "    else : # après elle est égale à zéro\n",
    "        d_mp=0\n",
    "    return d_mp"
   ]
  },
  {
   "cell_type": "markdown",
   "metadata": {},
   "source": [
    "Définition de la fonction reprenant la masse du carburant en fonction du temps:"
   ]
  },
  {
   "cell_type": "code",
   "execution_count": 380,
   "metadata": {
    "collapsed": true
   },
   "outputs": [],
   "source": [
    "def mp(tp):\n",
    "    if tp < 5: # temps que le temps est inférieur à 5 secondes, la masse décroit de 20 kg/s\n",
    "        m_p = mpo - dmp(tp)*tp\n",
    "    else: # après 5s, il n'y a plus de carburant\n",
    "        m_p = 0\n",
    "    return m_p"
   ]
  },
  {
   "cell_type": "markdown",
   "metadata": {},
   "source": [
    "Definition de la fonction reprenant l'équation du mouvement qui donne l'altitude et la vitesse à un instant t:"
   ]
  },
  {
   "cell_type": "code",
   "execution_count": 381,
   "metadata": {
    "collapsed": false
   },
   "outputs": [],
   "source": [
    "def f(u):\n",
    "    h=u[0] \n",
    "    v=u[1]\n",
    "    return numpy.array([v, (-g + (dmp(t[n])*ve)/(ms+mp(t[n]))- 0.5*(v*abs(v))*(d*A*Cd)/(ms+mp(t[n])))])\n",
    "    # Renvois un liste avec la valeur de l'altitude en première position et la valeur de la vitesse en deuxième position   "
   ]
  },
  {
   "cell_type": "markdown",
   "metadata": {},
   "source": [
    "Définiton de la fonction utilisant la méthode d'Euler pour trouver l'altitude et la vitesse de la roquette "
   ]
  },
  {
   "cell_type": "code",
   "execution_count": 382,
   "metadata": {
    "collapsed": false
   },
   "outputs": [],
   "source": [
    "def euler_step(u, f, dt) :\n",
    "    return u + dt * f(u)\n",
    "    #Renvois la valeur suivante (après un temps dt) de l'altitude et de la vitesse de la roquette"
   ]
  },
  {
   "cell_type": "code",
   "execution_count": 384,
   "metadata": {
    "collapsed": false
   },
   "outputs": [],
   "source": [
    "Te = 50                       \n",
    "dt = 0.1                           \n",
    "N = int(Te/dt) + 1                  \n",
    "t = numpy.linspace(0, Te, N)     \n",
    "\n",
    "\n",
    "u = numpy.empty((N, 2))\n",
    "u[0] = numpy.array([h0,v0])\n",
    "\n",
    "\n",
    "for n in range(N-1):\n",
    "    \n",
    "    u[n+1] = euler_step(u[n], f, dt) # Remplis le tableau vide à deux dimension u avec les couples\n",
    "                                     # altitude/vitesse de la roquette pour chaque instant t grâce\n",
    "                                     # à la méthode d'Euler."
   ]
  },
  {
   "cell_type": "markdown",
   "metadata": {},
   "source": [
    "Solutions aux questions posées:\n",
    "Carburant restant après 3.2 secondes"
   ]
  },
  {
   "cell_type": "markdown",
   "metadata": {},
   "source": [
    "Utilisons la fonction mp(t) définie plus haut pour trouver la valeur de la masse de carburant restant après 3.2 secondes."
   ]
  },
  {
   "cell_type": "code",
   "execution_count": 385,
   "metadata": {
    "collapsed": false
   },
   "outputs": [
    {
     "data": {
      "text/plain": [
       "36.0"
      ]
     },
     "execution_count": 385,
     "metadata": {},
     "output_type": "execute_result"
    }
   ],
   "source": [
    "mp(3.2) # Fonction mp lorsque t=3.2s "
   ]
  },
  {
   "cell_type": "markdown",
   "metadata": {
    "collapsed": false
   },
   "source": [
    "Nous obtenons que la masse restante est de 36.0 kg"
   ]
  },
  {
   "cell_type": "markdown",
   "metadata": {
    "collapsed": false
   },
   "source": [
    "Quelle est la vitesse maximale, à quel moment est t'elle atteinte et à quelle altitude est la fusée à ce moment?"
   ]
  },
  {
   "cell_type": "code",
   "execution_count": 386,
   "metadata": {
    "collapsed": false
   },
   "outputs": [
    {
     "name": "stdout",
     "output_type": "stream",
     "text": [
      "La valeur maximale de la vitesse (en m/s) est:\n",
      "232.106133413\n",
      "Cette vitesse est atteinte après (en seconde):\n",
      "5.0\n",
      "L'altitude (en m) à ce moment est de:\n",
      "523.522834292\n"
     ]
    }
   ],
   "source": [
    "for n in range(N-1):\n",
    "    if u[n][1]<=u[n+1][1]: #Pour chaque valeur de n jusquà N-1, on regarde si la valeur du deuxième élément du \n",
    "                           # n-ème couple (la vitesse) est plus petite ou égale à celle du deuxième élément du\n",
    "                           # couple suivant.Si c'est le cas:\n",
    "        vmax=u[n+1][1]     # vmax prend la valeur de la vitesse du couple suivant\n",
    "        tvmax=(n+1)/10     # tvmax prend la valeur de l'instant auquel celà ce produit \n",
    "        hvmax=u[n+1][0]    # hvmax prend la valeur de l'altitude de la roquette à ce moment\n",
    "print(\"La valeur maximale de la vitesse (en m/s) est:\") # La boucle s'arrête lorsque ceci n'est plus vrai et renvois\n",
    "print(vmax)                                             # les valeurs demandées.\n",
    "print(\"Cette vitesse est atteinte après (en seconde):\")\n",
    "print(tvmax)\n",
    "print(\"L'altitude (en m) à ce moment est de:\")\n",
    "print(hvmax)"
   ]
  },
  {
   "cell_type": "markdown",
   "metadata": {
    "collapsed": true
   },
   "source": [
    "Quelle est la hauteur maximale atteinte et à quel instant est elle atteinte?"
   ]
  },
  {
   "cell_type": "code",
   "execution_count": 387,
   "metadata": {
    "collapsed": false
   },
   "outputs": [
    {
     "name": "stdout",
     "output_type": "stream",
     "text": [
      "L'altitude maximale (en mètre) est:\n",
      "1334.18294543\n",
      "Cela se produit après (en seconde):\n",
      "15.7\n"
     ]
    }
   ],
   "source": [
    "for n in range(N-1):\n",
    "    if u[n][0]<=u[n+1][0]:      # Pour chaque valeur de n jusquà N-1, on regarde si la valeur du premier élément\n",
    "          x=u[n+1][0]           # du n-ème couple (l'altitude) est inférieure ou égale à celle du premier\n",
    "                                # élément du couple suivant. Si c'est le cas:\n",
    "                                # x prend la valeur de l'altitude à cet instant\n",
    "            \n",
    "print (\"L'altitude maximale (en mètre) est:\")            \n",
    "print(x)                                      # La boucle s'arrête lorsque ceci n'est plus vrai et renvois\n",
    "                                              # l'altitude maximale.\n",
    "                                # Pour chaque valeur de n jusquà N-1, on regarde si la valeur du premier élément du\n",
    "                                # n-ème couple (l'altitude) est égale à celle de x. Si c'est le cas:\n",
    "for n in range(N-1):            # thmax prend la valeur de l'instant auquel celà ce produit.\n",
    "                                # La boucle s'arrête une fois la valeur trouvée et renvois cette dernière.\n",
    "    if u[n][0] == x :\n",
    "        thmax=n/10\n",
    "        print (\"Cela se produit après (en seconde):\")\n",
    "        print (thmax)\n"
   ]
  },
  {
   "cell_type": "markdown",
   "metadata": {},
   "source": [
    "A quelle moment se produit l'impacte et quelle est la vitesse de la roquette à ce moment?"
   ]
  },
  {
   "cell_type": "code",
   "execution_count": 388,
   "metadata": {
    "collapsed": false
   },
   "outputs": [
    {
     "name": "stdout",
     "output_type": "stream",
     "text": [
      "Le crash se produit après (en seconde):\n",
      "37.1\n",
      "La vitesse (en m/s) au moment de l'impact est de:\n",
      "-86.0068349838\n"
     ]
    }
   ],
   "source": [
    "for n in range(N-1):\n",
    "    if u[n][0]>=u[n+1][0] and u[n][0]>=0: # Pour chaque valeur de n jusquà N-1, on regarde si la valeur du premier\n",
    "                                          # élément du n-ème couple (l'altitude) est supérieure ou égale à celle\n",
    "                                          # du premier élément du couple suivant. Si c'est le cas:\n",
    "        tcrash=(n+1)/10                   # tcrash prend la valeur de l'instant où la roquette se crash\n",
    "        vcrash=u[n+1][1]                  # vcrash prend la valeur de la vitesse à l'instant du crash\n",
    "print (\"Le crash se produit après (en seconde):\")\n",
    "print (tcrash)                            # La boucle s'arrête lorsque ceci n'est plus vrai et renvois les valeurs\n",
    "print (\"La vitesse (en m/s) au moment de l'impact est de:\")\n",
    "print (vcrash)                            # demandées."
   ]
  },
  {
   "cell_type": "markdown",
   "metadata": {},
   "source": [
    "Graphiques"
   ]
  },
  {
   "cell_type": "code",
   "execution_count": 389,
   "metadata": {
    "collapsed": false
   },
   "outputs": [],
   "source": [
    "#Création d'intervalles adaptés au graphique et créations des axes\n",
    "T = 37.1\n",
    "dt = 0.1                           \n",
    "Ng = int(T/dt) + 1                  \n",
    "tgr = numpy.linspace(0, T, Ng)\n",
    "ugr = numpy.empty((Ng, 2))\n",
    "ugr[0] = numpy.array([h0,v0])\n",
    "\n",
    "\n",
    "for n in range(Ng-1):\n",
    "    \n",
    "    ugr[n+1] = euler_step(ugr[n], f, dt)\n",
    "\n",
    "y=ugr[:,1]\n",
    "x=tgr\n"
   ]
  },
  {
   "cell_type": "code",
   "execution_count": 390,
   "metadata": {
    "collapsed": false
   },
   "outputs": [
    {
     "data": {
      "image/png": "[encoded data removed]",
      "text/plain": [
       "<matplotlib.figure.Figure at 0x7f55204b7a20>"
      ]
     },
     "metadata": {},
     "output_type": "display_data"
    }
   ],
   "source": [
    "pyplot.figure(figsize=(8,6))\n",
    "pyplot.grid(True)\n",
    "pyplot.xlabel(r'Temps', fontsize=18)\n",
    "pyplot.ylabel(r'Vitesse', fontsize=18)\n",
    "pyplot.title('Vitesse en fonction du temps, Temps de vol = %.2f' % T, fontsize=18)\n",
    "pyplot.plot(x,y, 'k-', lw=2);"
   ]
  },
  {
   "cell_type": "code",
   "execution_count": 391,
   "metadata": {
    "collapsed": true
   },
   "outputs": [],
   "source": [
    "# Changement de l'axe y pour qu'il indique l'altitude\n",
    "y=ugr[:,0]"
   ]
  },
  {
   "cell_type": "code",
   "execution_count": 392,
   "metadata": {
    "collapsed": false
   },
   "outputs": [
    {
     "data": {
      "image/png": "[encoded data removed]",
      "text/plain": [
       "<matplotlib.figure.Figure at 0x7f55205c16d8>"
      ]
     },
     "metadata": {},
     "output_type": "display_data"
    }
   ],
   "source": [
    "pyplot.figure(figsize=(8,6))\n",
    "pyplot.grid(True)\n",
    "pyplot.xlabel(r'Temps', fontsize=18)\n",
    "pyplot.ylabel(r'Altitude', fontsize=18)\n",
    "pyplot.title('Altitude en fonction du temps, Temps de vol = %.2f' % T, fontsize=18)\n",
    "pyplot.plot(x,y, 'k-', lw=2);"
   ]
  }
 ],
 "metadata": {
  "anaconda-cloud": {},
  "kernelspec": {
   "display_name": "Python [Root]",
   "language": "python",
   "name": "Python [Root]"
  },
  "language_info": {
   "codemirror_mode": {
    "name": "ipython",
    "version": 3
   },
   "file_extension": ".py",
   "mimetype": "text/x-python",
   "name": "python",
   "nbconvert_exporter": "python",
   "pygments_lexer": "ipython3",
   "version": "3.4.5"
  }
 },
 "nbformat": 4,
 "nbformat_minor": 0
}
