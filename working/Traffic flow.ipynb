{
 "cells": [
  {
   "cell_type": "markdown",
   "metadata": {},
   "source": [
    "# Coding assignement : Traffic flow"
   ]
  },
  {
   "cell_type": "markdown",
   "metadata": {},
   "source": [
    "Nous allons considérer le flux du trafic sur une voie d'autoroute. Comment pouvons nous décrire le comportement général d'un tel système?\n",
    "Nous pouvons définir la vitesse du trafic, V, en km/h. On peut aussi définir une densité de trafic, rho, en voitures par kilomètre. Enfin, on peut définir un flux de trafic, F, en voitures par heure.\n",
    "Une équation qui décrirait ce système est: \n",
    "\n",
    "$$V=V_{max}\\left(1-\\frac{\\rho}{\\rho_{max}}\\right)(1)$$\n",
    "\n",
    "Si on décrit le flux de trafic, F, comme:\n",
    "$$F = V\\rho$$\n",
    "Alors,\n",
    "$$F = F(\\rho) = V(\\rho)\\rho = V_{max} \\rho \\left(1 - \\frac{\\rho}{\\rho_{max}} \\right)(2)$$\n",
    "\n",
    "La vitesse de l'onde est $$V = \\frac{\\partial F}{\\partial \\rho}$$\n",
    "\n",
    "Un flux de trafic instable peut être modélisé par la convection non-linéaire de la densité de voiture donnée par:\n",
    "\n",
    "$$\\frac{\\partial \\rho}{\\partial t} + \\frac{\\partial F}{\\partial \\rho} \\frac{\\partial \\rho}{\\partial x} = 0$$\n",
    "\n",
    "Avec la règle de la chaîne, cela devient:\n",
    "$$\\frac{\\partial \\rho}{\\partial t} + \\frac{\\partial F}{\\partial x} = 0$$\n",
    "\n",
    "Nous allons discrétiser cette équatiion en utilisant la méthode \"forward-difference\" pour le temps et \"backward-difference\" pour l'espace.\n",
    "\n",
    "$$\\rho_i^{n+1} = \\rho_i^n - c \\frac{\\Delta t}{\\Delta x}(F_i^n-F_{i-1}^n)(3)$$\n",
    "\n",
    "\n",
    "\n",
    "\n",
    "Pour commencer, introduisons les fonctions numpy nécessaires à notre code:"
   ]
  },
  {
   "cell_type": "code",
   "execution_count": 66,
   "metadata": {
    "collapsed": true
   },
   "outputs": [],
   "source": [
    "import numpy                       \n",
    "from matplotlib import pyplot                 \n",
    "%matplotlib inline\n",
    "from matplotlib import rcParams\n",
    "rcParams['font.family'] = 'serif'\n",
    "rcParams['font.size'] = 16"
   ]
  },
  {
   "cell_type": "markdown",
   "metadata": {},
   "source": [
    "Conditions initiales:"
   ]
  },
  {
   "cell_type": "code",
   "execution_count": 67,
   "metadata": {
    "collapsed": false
   },
   "outputs": [],
   "source": [
    "Vmax = 80 #vitesse maximum km/h\n",
    "L = 11 #longueur du tronçon en km\n",
    "rhomax = 250 #densité de trafic en voitures par km\n",
    "nx = 51 #nombre d'intervalles de longueur dx\n",
    "dx = L/(nx-1) #longueur d'un intervalle en km (=0.22km)\n",
    "dt = .001 #durée d'un intervalle en heure"
   ]
  },
  {
   "cell_type": "markdown",
   "metadata": {},
   "source": [
    "### SIMULATION RESULTS: PART A\n",
    "\n",
    "Utilisons les conditions initiales suivantes pour la densité du trafic:"
   ]
  },
  {
   "cell_type": "code",
   "execution_count": 68,
   "metadata": {
    "collapsed": false
   },
   "outputs": [],
   "source": [
    "x = numpy.linspace(0,L,nx) #création d'une échelle de distance\n",
    "rho0 = numpy.ones(nx)*10 #création d'un tableau reprenant les densités par intervalle de distance\n",
    "rho0[10:20] = 50"
   ]
  },
  {
   "cell_type": "markdown",
   "metadata": {},
   "source": [
    "Graphique de la densité du trafic en fonction de la distance:"
   ]
  },
  {
   "cell_type": "code",
   "execution_count": 69,
   "metadata": {
    "collapsed": false
   },
   "outputs": [
    {
     "data": {
      "image/png": "[encoded data removed]",
      "text/plain": [
       "<matplotlib.figure.Figure at 0x7f69d7472710>"
      ]
     },
     "metadata": {},
     "output_type": "display_data"
    }
   ],
   "source": [
    "pyplot.plot(x, rho0, color='#003366', ls='--', lw=3)\n",
    "pyplot.ylim(0,60);"
   ]
  },
  {
   "cell_type": "markdown",
   "metadata": {},
   "source": [
    "### Question 1\n",
    "\n",
    "Nous avons les valeurs de $\\rho$, à l'aide de $(1)$ nous pouvons calculer la vitesse des voitures en tout point."
   ]
  },
  {
   "cell_type": "code",
   "execution_count": 70,
   "metadata": {
    "collapsed": false
   },
   "outputs": [],
   "source": [
    "V=numpy.empty(nx)\n",
    "V=Vmax*(1-rho0/rhomax)/3.6 #On divise par 3.6 pour passer en m/s"
   ]
  },
  {
   "cell_type": "markdown",
   "metadata": {},
   "source": [
    "Graphique de la vitesse en fonction de la position:"
   ]
  },
  {
   "cell_type": "code",
   "execution_count": 71,
   "metadata": {
    "collapsed": false
   },
   "outputs": [
    {
     "data": {
      "image/png": "[encoded data removed]",
      "text/plain": [
       "<matplotlib.figure.Figure at 0x7f69cd91e0b8>"
      ]
     },
     "metadata": {},
     "output_type": "display_data"
    }
   ],
   "source": [
    "pyplot.plot(x, V, color='#003366', ls='--', lw=3)\n",
    "pyplot.ylim(15,25);"
   ]
  },
  {
   "cell_type": "code",
   "execution_count": 72,
   "metadata": {
    "collapsed": false
   },
   "outputs": [
    {
     "name": "stdout",
     "output_type": "stream",
     "text": [
      "La plus petite vitesse initiale vaut 17.7777777778 m/s.\n"
     ]
    }
   ],
   "source": [
    "print(\"La plus petite vitesse initiale vaut\", min(V), \"m/s.\")"
   ]
  },
  {
   "cell_type": "markdown",
   "metadata": {},
   "source": [
    "### Question 2\n",
    "\n",
    "Avec notre algorithme, nous pouvons calculer en chaque point la valeur de $F_i^n$, sur base de $\\rho_i^n$, qui va nous permettre de calculer$\\rho_i^{n+1}$ en vertu de la relation $(3)$.\n",
    "Nous devons trouver la vitesse moyenne en m/s après 3min. Remarquons que 3min équivalent à 0.05h, le pas étant de 0.001h, il faut répéter l'algorithme 50 fois."
   ]
  },
  {
   "cell_type": "code",
   "execution_count": 73,
   "metadata": {
    "collapsed": false
   },
   "outputs": [],
   "source": [
    "nt = 50 #nombre d'intervalles de temps de durée dt dans 3min\n",
    "F=numpy.empty(nx)\n",
    "F[0]=Vmax*rho0[0]*(1-rho0[0]/rhomax) #valeur initiale du flux (nécessaire pour que l'algorithme se déroule bien)\n",
    "\n",
    "for n in range(nt):                 \n",
    "    rho=rho0.copy()\n",
    "    \n",
    "    for i in range(1,nx): \n",
    "        F[i]=Vmax*rho0[i]*(1-rho0[i]/rhomax) #(2)\n",
    "        rho0[i] = rho[i]-dt/dx*(F[i]-F[i-1]) #(3)"
   ]
  },
  {
   "cell_type": "markdown",
   "metadata": {},
   "source": [
    "Graphique de la densité en fonction de la position (après 3 min):"
   ]
  },
  {
   "cell_type": "code",
   "execution_count": 74,
   "metadata": {
    "collapsed": false
   },
   "outputs": [
    {
     "data": {
      "image/png": "[encoded data removed]",
      "text/plain": [
       "<matplotlib.figure.Figure at 0x7f69d5167e80>"
      ]
     },
     "metadata": {},
     "output_type": "display_data"
    }
   ],
   "source": [
    "pyplot.plot(x, rho0, color='#003366', ls='--', lw=3)\n",
    "pyplot.ylim(5,50);"
   ]
  },
  {
   "cell_type": "markdown",
   "metadata": {},
   "source": [
    "Créons un algorithme pour calculer la vitesse moyenne après 3min:"
   ]
  },
  {
   "cell_type": "code",
   "execution_count": 75,
   "metadata": {
    "collapsed": false
   },
   "outputs": [
    {
     "name": "stdout",
     "output_type": "stream",
     "text": [
      "La vitesse moyenne après 3 minutes vaut 20.6361661961 m/s.\n"
     ]
    }
   ],
   "source": [
    "vm3=0 # on initialise la vitesse moyenne comme étant 0 pour ne pas fausser l'algorithme\n",
    "\n",
    "for i in range(nx):\n",
    "    V[i] = Vmax*(1-rho0[i]/rhomax)/3.6 #(2)\n",
    "    vm3 = vm3+V[i]\n",
    "\n",
    "vm3=vm3/51\n",
    "\n",
    "print(\"La vitesse moyenne après 3 minutes vaut\", vm3, \"m/s.\")"
   ]
  },
  {
   "cell_type": "markdown",
   "metadata": {},
   "source": [
    "Graphique de la vitesse en fonction de la position (après 3minutes):"
   ]
  },
  {
   "cell_type": "code",
   "execution_count": 76,
   "metadata": {
    "collapsed": false
   },
   "outputs": [
    {
     "data": {
      "image/png": "[encoded data removed]",
      "text/plain": [
       "<matplotlib.figure.Figure at 0x7f69cda86e80>"
      ]
     },
     "metadata": {},
     "output_type": "display_data"
    }
   ],
   "source": [
    "pyplot.plot(x, V, color='#003366', ls='--', lw=3)\n",
    "pyplot.ylim(15,25);"
   ]
  },
  {
   "cell_type": "markdown",
   "metadata": {},
   "source": [
    "### Question 3\n",
    "\n",
    "Nous réutilisons le même algorithme que précédement pour trouver les valeurs de  $F_i^n$ et $\\rho_i^{n+1}$. Nous répétons l'algorithme 100 fois pour arriver aux valeurs de ces derniers après 6 minutes. Trouvons ensuite la valeur minmiale de la vitesse après 6 minutes."
   ]
  },
  {
   "cell_type": "code",
   "execution_count": 77,
   "metadata": {
    "collapsed": false
   },
   "outputs": [],
   "source": [
    "rho00 = numpy.ones(nx)*10                       #Nous réinitialisons les valeurs de rho\n",
    "rho00[10:20] = 50\n",
    "F[0]=Vmax*rho00[0]*(1-rho00[0]/rhomax)            #Nous initions la première valeur de F\n",
    "for n in range(2*nt):\n",
    "    rho=rho00.copy()\n",
    "    for i in range(1,nx): \n",
    "        F[i]=Vmax*rho00[i]*(1-rho00[i]/rhomax)\n",
    "        rho00[i] = rho[i]-dt/dx*(F[i]-F[i-1])"
   ]
  },
  {
   "cell_type": "markdown",
   "metadata": {},
   "source": [
    "Graphique de la densité en fonction de la position (après 6min):"
   ]
  },
  {
   "cell_type": "code",
   "execution_count": 78,
   "metadata": {
    "collapsed": false
   },
   "outputs": [
    {
     "data": {
      "image/png": "[encoded data removed]",
      "text/plain": [
       "<matplotlib.figure.Figure at 0x7f69cda98588>"
      ]
     },
     "metadata": {},
     "output_type": "display_data"
    }
   ],
   "source": [
    "pyplot.plot(x, rho00, color='#003366', ls='--', lw=3)\n",
    "pyplot.ylim(5,50);"
   ]
  },
  {
   "cell_type": "code",
   "execution_count": 79,
   "metadata": {
    "collapsed": false
   },
   "outputs": [
    {
     "name": "stdout",
     "output_type": "stream",
     "text": [
      "La valeur minimale de la vitesse après 6 minutes est 18.7847168709 m/s\n"
     ]
    }
   ],
   "source": [
    "for i in range(nx):\n",
    "    V[i]=Vmax*(1-rho00[i]/rhomax)/3.6\n",
    "vmin6=min(V)\n",
    "print(\"La valeur minimale de la vitesse après 6 minutes est\", vmin6 ,\"m/s\")"
   ]
  },
  {
   "cell_type": "markdown",
   "metadata": {},
   "source": [
    "Graphique de la vitesse en fonction de la position (après 6min):"
   ]
  },
  {
   "cell_type": "code",
   "execution_count": 80,
   "metadata": {
    "collapsed": false
   },
   "outputs": [
    {
     "data": {
      "image/png": "[encoded data removed]",
      "text/plain": [
       "<matplotlib.figure.Figure at 0x7f69cd911c88>"
      ]
     },
     "metadata": {},
     "output_type": "display_data"
    }
   ],
   "source": [
    "pyplot.plot(x, V, color='#003366', ls='--', lw=3)\n",
    "pyplot.ylim(15,25);"
   ]
  },
  {
   "cell_type": "markdown",
   "metadata": {},
   "source": [
    "### SIMULATION RESULTS: PART B\n",
    "\n",
    "### Question 1\n",
    "\n",
    "Utilisons les nouvelles conditions initiales."
   ]
  },
  {
   "cell_type": "code",
   "execution_count": 81,
   "metadata": {
    "collapsed": true
   },
   "outputs": [],
   "source": [
    "Vmax2=136# nouvelle vitesse maximale en km/h\n",
    "x = numpy.linspace(0,L,nx) #création d'une échelle de distance\n",
    "rho02 = numpy.ones(nx)*20 #création d'un nouveau tableau reprenant les densités par intervalle de distance\n",
    "rho02[10:20] = 50"
   ]
  },
  {
   "cell_type": "markdown",
   "metadata": {},
   "source": [
    "Graphique de la densité en fonction de la position:"
   ]
  },
  {
   "cell_type": "code",
   "execution_count": 82,
   "metadata": {
    "collapsed": false
   },
   "outputs": [
    {
     "data": {
      "image/png": "[encoded data removed]",
      "text/plain": [
       "<matplotlib.figure.Figure at 0x7f69cd82bef0>"
      ]
     },
     "metadata": {},
     "output_type": "display_data"
    }
   ],
   "source": [
    "pyplot.plot(x, rho02, color='#003366', ls='--', lw=3)\n",
    "pyplot.ylim(15,60);"
   ]
  },
  {
   "cell_type": "code",
   "execution_count": 83,
   "metadata": {
    "collapsed": false
   },
   "outputs": [
    {
     "name": "stdout",
     "output_type": "stream",
     "text": [
      "La valeur initiale minimale de la vitesse est 30.2222222222 m/s\n"
     ]
    }
   ],
   "source": [
    "F2=numpy.empty(nx)   #Création d'un nouveau tableau pour les valeurs de F\n",
    "V2=numpy.empty(nx)   #Création d'un nouveau tableau pour les valeurs de V\n",
    "V2=Vmax2*(1-rho02/rhomax)/3.6 #On calcule la vitesse initiale en chaque point, et la mettons en unité universelle\n",
    "vmin2=min(V2)          #On prend la valeur minimal de ce tableau\n",
    "print(\"La valeur initiale minimale de la vitesse est\", vmin2 ,\"m/s\")\n"
   ]
  },
  {
   "cell_type": "markdown",
   "metadata": {},
   "source": [
    "### Question 2\n",
    "\n",
    "Nous réutilisons l'algorithme de la Question 2 - Part A car nous avons la même question pour des valeurs initiales différentes. Nous répetons donc encore l'algorithme 50 fois pour arriver à un temps de 3 minutes. Trouvons ensuite la valeur moyenne de la vitesse à ce moment."
   ]
  },
  {
   "cell_type": "code",
   "execution_count": 84,
   "metadata": {
    "collapsed": true
   },
   "outputs": [],
   "source": [
    "F2[0]=Vmax2*rho02[0]*(1-rho02[0]/rhomax)    #Initialisation de la première valeur de F\n",
    "for n in range(nt):\n",
    "    rho2=rho02.copy()\n",
    "    for i in range(1,nx): \n",
    "        F2[i]=Vmax2*rho02[i]*(1-rho02[i]/rhomax)\n",
    "        rho02[i] = rho2[i]-dt/dx*(F2[i]-F2[i-1])"
   ]
  },
  {
   "cell_type": "markdown",
   "metadata": {},
   "source": [
    "Graphique de la densité en fonction de la position:"
   ]
  },
  {
   "cell_type": "code",
   "execution_count": 85,
   "metadata": {
    "collapsed": false
   },
   "outputs": [
    {
     "data": {
      "image/png": "[encoded data removed]",
      "text/plain": [
       "<matplotlib.figure.Figure at 0x7f69d51d1710>"
      ]
     },
     "metadata": {},
     "output_type": "display_data"
    }
   ],
   "source": [
    "pyplot.plot(x, rho02, color='#003366', ls='--', lw=3)\n",
    "pyplot.ylim(5,50);"
   ]
  },
  {
   "cell_type": "code",
   "execution_count": 86,
   "metadata": {
    "collapsed": false
   },
   "outputs": [
    {
     "name": "stdout",
     "output_type": "stream",
     "text": [
      "La vitesse moyenne après 3 minutes est 33.872218191 m/s\n"
     ]
    }
   ],
   "source": [
    "vmt2=0               #On initialise la valeur de la vitesse moyenne\n",
    "for i in range(nx):\n",
    "    V2[i]=Vmax2*(1-rho02[i]/rhomax)/3.6   #on effectue la moyenne et la mettons en unité universelle\n",
    "    vmt2=vmt2+V2[i]\n",
    "vmt2=vmt2/51\n",
    "print(\"La vitesse moyenne après 3 minutes est\", vmt2 ,\"m/s\")"
   ]
  },
  {
   "cell_type": "markdown",
   "metadata": {},
   "source": [
    "Graphique de la vitesse en fonction de la position (après 3 min):"
   ]
  },
  {
   "cell_type": "code",
   "execution_count": 87,
   "metadata": {
    "collapsed": false
   },
   "outputs": [
    {
     "data": {
      "image/png": "[encoded data removed]",
      "text/plain": [
       "<matplotlib.figure.Figure at 0x7f69f80a05c0>"
      ]
     },
     "metadata": {},
     "output_type": "display_data"
    }
   ],
   "source": [
    "pyplot.plot(x, V2, color='#003366', ls='--', lw=3)\n",
    "pyplot.ylim(15,50);"
   ]
  },
  {
   "cell_type": "markdown",
   "metadata": {},
   "source": [
    "Graphique de la desnité en fonction de la position (après 3 min):"
   ]
  },
  {
   "cell_type": "code",
   "execution_count": 88,
   "metadata": {
    "collapsed": false
   },
   "outputs": [
    {
     "data": {
      "image/png": "[encoded data removed]",
      "text/plain": [
       "<matplotlib.figure.Figure at 0x7f69d6b3cba8>"
      ]
     },
     "metadata": {},
     "output_type": "display_data"
    }
   ],
   "source": [
    "pyplot.plot(x, rho00, color='#003366', ls='--', lw=3)\n",
    "pyplot.ylim(5,50);"
   ]
  },
  {
   "cell_type": "markdown",
   "metadata": {},
   "source": [
    "### Question 3\n",
    "\n",
    "Nous avons déjà les valeurs de la vitesse après 3 minutes pour toutes les positions. Trouvons la valeur minimale de la vitesse après 3 minutes."
   ]
  },
  {
   "cell_type": "code",
   "execution_count": 89,
   "metadata": {
    "collapsed": false
   },
   "outputs": [
    {
     "name": "stdout",
     "output_type": "stream",
     "text": [
      "La valeur minimale de la vitesse après 3 minutes est 30.9864026806 m/s\n"
     ]
    }
   ],
   "source": [
    "vmin3=min(V2)       #On prend la valeur minimale de la vitesse\n",
    "print(\"La valeur minimale de la vitesse après 3 minutes est\", vmin3 ,\"m/s\")"
   ]
  }
 ],
 "metadata": {
  "kernelspec": {
   "display_name": "Python [Root]",
   "language": "python",
   "name": "Python [Root]"
  },
  "language_info": {
   "codemirror_mode": {
    "name": "ipython",
    "version": 3
   },
   "file_extension": ".py",
   "mimetype": "text/x-python",
   "name": "python",
   "nbconvert_exporter": "python",
   "pygments_lexer": "ipython3",
   "version": "3.4.5"
  }
 },
 "nbformat": 4,
 "nbformat_minor": 0
}
