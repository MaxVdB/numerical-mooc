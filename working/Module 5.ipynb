{
 "cells": [
  {
   "cell_type": "markdown",
   "metadata": {},
   "source": [
    "# Module 5 : Relax and Hold Steady - Stokes Flow"
   ]
  },
  {
   "cell_type": "markdown",
   "metadata": {},
   "source": [
    "### Introduction"
   ]
  },
  {
   "cell_type": "markdown",
   "metadata": {},
   "source": [
    "#### Vorticité"
   ]
  },
  {
   "cell_type": "markdown",
   "metadata": {},
   "source": [
    "Nous allons résoudre les équations de l'écoulement de Stokes dans une cavité carrée. Pour ce faire, nous allons utiliser la vorticité. Cela nous permet de simplifier les équations de Navier-Stokes en éliminant la non-linéarité.\n",
    "\n",
    "On commence avec l'équation de Navier-Stokes pour un écoulement incompressible:\n",
    "\n",
    "$$\\frac{\\partial u}{\\partial t} + u \\cdot \\nabla u = -\\frac{1}{\\rho}\\nabla p + \\nu\\nabla^2 u\\ \\ \\ \\ \\ (1)$$\n",
    "\n",
    "Après quelques manipulations mathématiques, on peut exprimer l'équation de transport de la vorticité simplifiée:\n",
    "\n",
    "$$\\begin{equation} \\nabla ^2 \\omega = 0\\ \\ \\ \\ \\ (2) \\end{equation}$$"
   ]
  },
  {
   "cell_type": "markdown",
   "metadata": {},
   "source": [
    "#### Fonction de courant"
   ]
  },
  {
   "cell_type": "markdown",
   "metadata": {},
   "source": [
    "Nous pouvons définir la fonction de courant de cette manière:\n",
    "\n",
    "$$\\begin{equation} u = \\frac{\\partial \\psi}{\\partial y} \\text{   and   } v = - \\frac{\\partial \\psi}{\\partial x}\\ \\ \\ \\ \\ (3) \\end{equation}$$\n",
    "\n",
    "En 2D, la vorticité peut s'écrire ainsi:\n",
    "\n",
    "$$\\begin{equation} \\omega = \\frac{\\partial v}{\\partial x} - \\frac{\\partial u}{\\partial y}\\ \\ \\ \\ \\ (4) \\end{equation}$$\n",
    "\n",
    "En combinant les équations (3) et (4) on obtient:\n",
    "\n",
    "$$\\begin{equation} \\nabla^2 \\psi = -\\omega\\ \\ \\ \\ \\ (5) \\end{equation}$$\n",
    "\n",
    "Nous avons donc un système de deux équations couplées qui peut décrire l'écoulement d'un fluide dans une cavité avec une paroi coulissante et avec des nombres de Reynolds très petits.\n",
    "\n",
    "$$\\begin{equation} \\nabla ^2 \\omega = 0\\ \\ \\ \\ \\ (2) \\end{equation}$$\n",
    "$$\\begin{equation} \\nabla^2 \\psi = -\\omega\\ \\ \\ \\ \\ (5) \\end{equation}$$"
   ]
  },
  {
   "cell_type": "markdown",
   "metadata": {},
   "source": [
    "### Ecoulement dans la cavité"
   ]
  },
  {
   "cell_type": "markdown",
   "metadata": {},
   "source": [
    "Pour commencer, importons les packages habituels"
   ]
  },
  {
   "cell_type": "code",
   "execution_count": 1,
   "metadata": {
    "collapsed": false
   },
   "outputs": [],
   "source": [
    "from matplotlib import pyplot\n",
    "import numpy\n",
    "%matplotlib inline\n",
    "from matplotlib import rcParams\n",
    "rcParams['font.family'] = 'serif'\n",
    "rcParams['font.size'] = 16\n",
    "from matplotlib import cm"
   ]
  },
  {
   "cell_type": "markdown",
   "metadata": {},
   "source": [
    "Nous allons résoudre un problème appelé écoulement dans une cavité avec une paroi coulissante. Prenons la paroi supérieure d'une cavité carrée qui bouge à la vitesse constante u=1\n",
    "\n",
    "Aucun fluide ne peut passer par les parois et il n'a pas de glissement le long des parois. Nous allons visualiser l'écoulement dans la cavité lorsque l'état stable est atteint. \n",
    "Les conditions aux limites sont spécifiées en terme de la fonction de courant Ψ.\n",
    "#### Figure 1. Lid-driven Cavity Flow\n",
    "<img src=\"./drivencavity.svg\" width=400px>\n",
    "\n",
    "\n",
    "#### Valeurs initiales:"
   ]
  },
  {
   "cell_type": "code",
   "execution_count": 13,
   "metadata": {
    "collapsed": false
   },
   "outputs": [],
   "source": [
    "nx = 41    # Soit nx le nombre de graduation selon l'axe x\n",
    "ny = 41    # Soit ny le nombre de graduation selon l'axe y\n",
    "l = 1.     # La longeur de la boîte\n",
    "h = 1.     # La hauteur de la boîte\n",
    "dx = l/(nx-1)    # Soit dx la taille des graduations selon l'axe x\n",
    "dy = h/(ny-1)    # Soit dy la taille des graduations selon l'axe y\n",
    "l1_target = 1e-6    # Soit l1_target la précision demandée (différence entre deux Ψ ou ω d'itérations consécutives)\n",
    "x = numpy.linspace(0,l,nx) # Définition de l'axe x\n",
    "y = numpy.linspace(0,h,ny) # Définition de l'axe y\n",
    "psi0 = numpy.zeros((ny,nx)) # Définiton initiale de la matrice Ψ\n",
    "w0 = numpy.zeros((ny,nx)) # Définition initiale de la matrice ω \n",
    "utop = 1   # Vitesse sur la paroi supérieure\n",
    "uleft = 0  # Vitesses des trois autres parois\n",
    "uright = 0\n",
    "ubottom = 0\n",
    "d = dx     # Comme dx et dy sont identiques, on les appelle par \"d\" afin de simplifier les calculs"
   ]
  },
  {
   "cell_type": "markdown",
   "metadata": {},
   "source": [
    "#### Fonction L1norm:"
   ]
  },
  {
   "cell_type": "code",
   "execution_count": 3,
   "metadata": {
    "collapsed": true
   },
   "outputs": [],
   "source": [
    "def L1norm(new, old):       # Fonction qui prend deux tableaux, qui somme les valeurs absolues des différences \n",
    "    norm = numpy.sum(numpy.abs(new-old)) # entre chaque élément. Cette somme est appelée norm.  \n",
    "    return norm                          # Elle va nous permettre de savoir quand est ce que la précision \n",
    "                                         # de 1E-6 est atteinte."
   ]
  },
  {
   "cell_type": "markdown",
   "metadata": {},
   "source": [
    "#### Méthode de Jacobi:\n",
    "Nous utilisons la méthode d'itération de Jacobi comme donnée dans le notebook, cette méthode remplace notre point la moyenne des quatres points voisins. Pour $\\omega$, cela donne simplement:\n",
    "\n",
    " $$\\begin{equation}\n",
    "w^{k+1}_{i,j} = \\frac{1}{4} \\left(w^{k}_{i,j-1} + w^k_{i,j+1} + w^{k}_{i-1,j} + w^k_{i+1,j} \\right)\n",
    "\\end{equation}(6)$$ \n",
    "\n",
    "Par contre pour $\\psi$ il faut rajouter le terme de source (cela vient de l'équation $(5)$ : $\\begin{equation} \\nabla^2 \\psi = -\\omega \\end{equation}$)\n",
    "\n",
    "Du coup, cela donne: $$ \\psi_{i,j}^{k+1}=\\frac{(\\psi_{i+1,j}^{k}+\\psi_{i-1,j}^{k})\\Delta y^2+(\\psi_{i,j+1}^{k}+\\psi_{i,j-1}^{k})\\Delta x^2-w_{i,j}^{k}\\Delta x^2\\Delta y^2}{2(\\Delta x^2+\\Delta y^2)}$$\n",
    "\n",
    "Et comme $\\Delta x$ et $\\Delta y$ sont égaux, on a la formule simplifiée: $$ \\psi_{i,j}^{k+1}=\\frac{\\psi_{i+1,j}^{k}+\\psi_{i-1,j}^{k}+\\psi_{i,j+1}^{k}+\\psi_{i,j-1}^{k}-w_{i,j}^{k}\\Delta^2}{4} \\ \\ (7)$$\n",
    "\n",
    "\n",
    "#### Conditions aux bords:\n",
    "Les conditions aux bords pour $\\omega$ sont données par:\n",
    "\\begin{equation}\n",
    "\\omega_{i,j} = -\\frac{1}{2 \\Delta y^2} (8\\psi_{i, j-1} - \\psi_{i, j-2}) - \\frac{3u_j}{\\Delta y} + \\mathcal{O}(\\Delta y^2)\n",
    "\\end{equation}\n",
    "\n",
    "Pour les bords selon l'axe x (haut et bas) et:\n",
    "\n",
    "\\begin{equation}\n",
    "\\omega_{i,j} = -\\frac{1}{2 \\Delta y^2} (8\\psi_{i-1, j} - \\psi_{i-2, j}) - \\frac{3u_j}{\\Delta y} + \\mathcal{O}(\\Delta y^2)\n",
    "\\end{equation}\n",
    "\n",
    "Pour les bords selon l'axe y (gauche et droit)\n"
   ]
  },
  {
   "cell_type": "code",
   "execution_count": 4,
   "metadata": {
    "collapsed": false
   },
   "outputs": [],
   "source": [
    "def mylaplacepoisson_nest(psi, w, l1_target, ut, ub, ur, ul):  # Définition de la fonction nous permettant de trouver ω et Ψ à\n",
    "                                            # l'équilibre dans la cavité.\n",
    "    \n",
    "    iterations = 0          #Initialisation du nombre d'iterations de la fonction\n",
    "    normw = l1_target+1 #initialisation de normw pour qu'il soit plus grand que l1_target\n",
    "    normpsi = l1_target+1 #initialisation de normpsi pour qu'il soit plus grand que l1_target\n",
    "   \n",
    "    while (normw > l1_target or normpsi > l1_target): # Définition de la boucle pour avoir la précision voulue\n",
    "        \n",
    "        w_n = w.copy()           #Nous utilisons w_n et psi_n pour sauvegarder les valeurs de l'itération précédente\n",
    "        psi_n = psi.copy()\n",
    "        \n",
    "        # Appliquons la méthode d'itérations de Jacobi pour trouver ω et ψ\n",
    "        \n",
    "        w[1:-1,1:-1] = .25 * (w_n[1:-1,:-2] + w_n[1:-1,2:] + w_n[:-2,1:-1] + w_n[2:,1:-1])\n",
    "        \n",
    "        \n",
    "\n",
    "        w[0,:] = ((-1/(2*d**2)) * (8*psi[1,:] - psi[2,:] )) + 3*ubottom/d # Définition des conditions aux bords pour\n",
    "        w[-1,:] = ((-1/(2*d**2)) * (8*psi[-2,:] - psi[-3,:] )) - 3*utop/d # ω. (Attention: les bords sont définis\n",
    "        w[:,0] = ((-1/(2*d**2)) * (8*psi[:,1] - psi[:,2] )) + 3*uleft/d   # dans l'ordre bas, haut puis gauche, droite.\n",
    "        w[:,-1] = ((-1/(2*d**2)) * (8*psi[:,-2] - psi[:,-3] )) - 3*uright/d # Ceci a un impact sur la réponse finale.)\n",
    "        \n",
    "        psi[1:-1,1:-1] = .25 * ((psi_n[1:-1,2:] + psi_n[1:-1,:-2] +\\\n",
    "                        psi_n[2:,1:-1] + psi_n[:-2,1:-1]) + w[1:-1,1:-1]*d**2)\n",
    "       \n",
    "        normw =  L1norm(w_n, w) # Comparaison des normes de w et w_n grâce à la fonction L1norm\n",
    "    \n",
    "        normpsi = L1norm(psi_n, psi) # Comparaison des normes de w et w_n grâce à la fonction L1norm\n",
    "        \n",
    "    \n",
    "        iterations += 1 # Nous comptons les itérations\n",
    "        \n",
    "    return psi, w, iterations, normw, normpsi"
   ]
  },
  {
   "cell_type": "markdown",
   "metadata": {},
   "source": [
    "Nous utilisons les valeurs trouvées par la fonction mylaplacepoisson_nest."
   ]
  },
  {
   "cell_type": "code",
   "execution_count": 5,
   "metadata": {
    "collapsed": false
   },
   "outputs": [],
   "source": [
    "psi, w, iterations, normw, normpsi = mylaplacepoisson_nest(psi0, w0, l1_target, utop, ubottom, uright, uleft)"
   ]
  },
  {
   "cell_type": "markdown",
   "metadata": {
    "collapsed": false
   },
   "source": [
    "Nous regardons le nombre d'itérations et les normes de Ψ et ω"
   ]
  },
  {
   "cell_type": "code",
   "execution_count": 6,
   "metadata": {
    "collapsed": false
   },
   "outputs": [
    {
     "name": "stdout",
     "output_type": "stream",
     "text": [
      "4060 9.99748579551e-07 2.22733131185e-08\n"
     ]
    }
   ],
   "source": [
    "print(iterations, normw, normpsi)"
   ]
  },
  {
   "cell_type": "code",
   "execution_count": 7,
   "metadata": {
    "collapsed": false
   },
   "outputs": [],
   "source": [
    "#%%timeit\n",
    "#mylaplacepoisson_nest(psi0, w0, l1_target)"
   ]
  },
  {
   "cell_type": "markdown",
   "metadata": {},
   "source": [
    "Graphique de Ψ dans la cavité (premier graphique) et graphique de ω dans la cavité (deuxième graphique)"
   ]
  },
  {
   "cell_type": "code",
   "execution_count": 10,
   "metadata": {
    "collapsed": false
   },
   "outputs": [
    {
     "data": {
      "text/plain": [
       "<matplotlib.contour.QuadContourSet at 0x10c98f0b8>"
      ]
     },
     "execution_count": 10,
     "metadata": {},
     "output_type": "execute_result"
    },
    {
     "data": {
      "image/png": "[encoded data removed]",
      "text/plain": [
       "<matplotlib.figure.Figure at 0x10bfb73c8>"
      ]
     },
     "metadata": {},
     "output_type": "display_data"
    },
    {
     "data": {
      "image/png": "[encoded data removed]",
      "text/plain": [
       "<matplotlib.figure.Figure at 0x10c9d99b0>"
      ]
     },
     "metadata": {},
     "output_type": "display_data"
    }
   ],
   "source": [
    "pyplot.figure(figsize=(6,6))\n",
    "pyplot.contourf(x,y,psi,10,cmap=cm.viridis)\n",
    "pyplot.figure(figsize=(6,6))\n",
    "pyplot.contourf(x,y,w,10,cmap=cm.viridis)"
   ]
  },
  {
   "cell_type": "markdown",
   "metadata": {},
   "source": [
    "## Question 1\n",
    "\n",
    "Quelles sont les valeurs maximales de |ω| et |Ψ| dans la cavité?\n",
    "\n",
    "Nous donnons deux réponses: La première ne prend pas les bords de la cavité en compte, la deuxième les prends en compte."
   ]
  },
  {
   "cell_type": "code",
   "execution_count": 26,
   "metadata": {
    "collapsed": false
   },
   "outputs": [
    {
     "name": "stdout",
     "output_type": "stream",
     "text": [
      "La valeur maximale de |Ψ| dans la cavité est 0.0998451724383\n",
      "La valeur maximale de |Ψ| à l'intérieur de la cavité est 0.0998451724383\n"
     ]
    }
   ],
   "source": [
    "print (\"La valeur maximale de |Ψ| dans la cavité est\",numpy.max(numpy.abs(psi[:])))\n",
    "print (\"La valeur maximale de |Ψ| à l'intérieur de la cavité est\",(numpy.max(numpy.abs(psi[1:-1,1:-1]))))"
   ]
  },
  {
   "cell_type": "code",
   "execution_count": 27,
   "metadata": {
    "collapsed": false
   },
   "outputs": [
    {
     "name": "stdout",
     "output_type": "stream",
     "text": [
      "La valeur maximale de |w| dans la cavité est 78.1926612286\n",
      "La valeur maximale de |w| à l'intérieur de la cavité est 22.5607771651\n"
     ]
    }
   ],
   "source": [
    "print (\"La valeur maximale de |w| dans la cavité est\",numpy.max(numpy.abs(w[:])))\n",
    "print (\"La valeur maximale de |w| à l'intérieur de la cavité est\",(numpy.max(numpy.abs(w[1:-1,1:-1]))))"
   ]
  },
  {
   "cell_type": "markdown",
   "metadata": {},
   "source": [
    "## Question 2\n",
    "\n",
    "Quels sont les 6 nombres rendu par numpy.round(psi[32,::8], 4)?"
   ]
  },
  {
   "cell_type": "code",
   "execution_count": 16,
   "metadata": {
    "collapsed": false
   },
   "outputs": [
    {
     "data": {
      "text/plain": [
       "array([ 0.    , -0.0575, -0.0944, -0.0944, -0.0575,  0.    ])"
      ]
     },
     "execution_count": 16,
     "metadata": {},
     "output_type": "execute_result"
    }
   ],
   "source": [
    "numpy.round(psi[32,::8], 4)"
   ]
  },
  {
   "cell_type": "markdown",
   "metadata": {},
   "source": [
    "## Conclusion\n",
    "\n",
    "Nous avons utlisé la méthode d'itération de Jacobi pour trouver vers quel état d'équilibre le fluide évolue, sachant les conditions initiales imposées. Nous avons ensuite trouvé les valeurs maximales de |Ψ| et |w| dans la cavité. "
   ]
  }
 ],
 "metadata": {
  "anaconda-cloud": {},
  "kernelspec": {
   "display_name": "Python [conda root]",
   "language": "python",
   "name": "conda-root-py"
  },
  "language_info": {
   "codemirror_mode": {
    "name": "ipython",
    "version": 3
   },
   "file_extension": ".py",
   "mimetype": "text/x-python",
   "name": "python",
   "nbconvert_exporter": "python",
   "pygments_lexer": "ipython3",
   "version": "3.5.2"
  }
 },
 "nbformat": 4,
 "nbformat_minor": 1
}
