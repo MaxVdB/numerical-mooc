{
 "cells": [
  {
   "cell_type": "code",
   "execution_count": 1,
   "metadata": {
    "collapsed": false
   },
   "outputs": [],
   "source": [
    "from matplotlib import pyplot\n",
    "import numpy\n",
    "%matplotlib inline\n",
    "from matplotlib import rcParams\n",
    "rcParams['font.family'] = 'serif'\n",
    "rcParams['font.size'] = 16\n",
    "from matplotlib import cm"
   ]
  },
  {
   "cell_type": "code",
   "execution_count": 63,
   "metadata": {
    "collapsed": false
   },
   "outputs": [],
   "source": [
    "nx = 41\n",
    "ny = 41\n",
    "l = 1.\n",
    "h = 1.\n",
    "dx = l/(nx-1)\n",
    "dy = h/(ny-1)\n",
    "l1_target = 1e-6\n",
    "x = numpy.linspace(0,l,nx)\n",
    "y = numpy.linspace(0,h,ny)\n",
    "psi0 = numpy.zeros((ny,nx))\n",
    "w0 = numpy.zeros((ny,nx))\n",
    "utop = 1\n",
    "uleft = 0\n",
    "uright = 0\n",
    "ubottom = 0\n",
    "d = dx"
   ]
  },
  {
   "cell_type": "code",
   "execution_count": 64,
   "metadata": {
    "collapsed": true
   },
   "outputs": [],
   "source": [
    "def L1norm(new, old):\n",
    "    norm = numpy.sum(numpy.abs(new-old))\n",
    "    return norm"
   ]
  },
  {
   "cell_type": "code",
   "execution_count": 65,
   "metadata": {
    "collapsed": false
   },
   "outputs": [],
   "source": [
    "def mylaplacepoisson_nest(psi, w, l1_target):\n",
    "    \n",
    "    iterations = 0\n",
    "    normw = l1_target+1 #init normw to be larger than l1_target\n",
    "    normpsi = l1_target+1 #init normpsi to be larger than l1_target\n",
    "   \n",
    "    while (normw > l1_target or normpsi > l1_target): #à priori qd w converge, psi cvg\n",
    "        \n",
    "        w_n = w.copy()\n",
    "        psi_n = psi.copy()\n",
    "        \n",
    "        \n",
    "        w[1:-1,1:-1] = .25 * (w_n[1:-1,:-2] + w_n[1:-1,2:] + w_n[:-2,1:-1] + w_n[2:,1:-1])\n",
    "        \n",
    "        psi[1:-1,1:-1] = .25 * ((psi_n[1:-1,2:] + psi_n[1:-1,:-2] +\\\n",
    "                        psi_n[2:,1:-1] + psi_n[:-2,1:-1]) + w[1:-1,1:-1]*d**2)\n",
    "       \n",
    "        #Neumann 2nd-order BC\n",
    "       \n",
    "        \n",
    "        #psi[:,0] = 0\n",
    "        #psi[:,-1] = 0\n",
    "        w[:,0] = ((-1/(2*d**2)) * (8*psi_n[:,1] - psi_n[:,2] )) + 3*uleft/d\n",
    "        w[:,-1] = ((-1/(2*d**2)) * (8*psi_n[:,-2] - psi_n[:,-3] )) - 3*uright/d\n",
    "       \n",
    "        #psi[0,:] = 0\n",
    "        #psi[-1,:] = 0\n",
    "        w[0,:] = ((-1/(2*d**2)) * (8*psi_n[1,:] - psi_n[2,:] )) + 3*ubottom/d\n",
    "        w[-1,:] = ((-1/(2*d**2)) * (8*psi_n[-2,:] - psi_n[-3,:] )) - 3*utop/d #7*psi pas dans l'énoncé?????\n",
    "            \n",
    "        normw =  L1norm(w_n, w)\n",
    "    \n",
    "        normpsi = L1norm(psi_n, psi)\n",
    "        \n",
    "    \n",
    "        iterations += 1\n",
    "        \n",
    "    return psi, w, iterations, normw, normpsi"
   ]
  },
  {
   "cell_type": "code",
   "execution_count": 66,
   "metadata": {
    "collapsed": false
   },
   "outputs": [],
   "source": [
    "psi, w, iterations, normw, normpsi = mylaplacepoisson_nest(psi0, w0, l1_target)"
   ]
  },
  {
   "cell_type": "code",
   "execution_count": 77,
   "metadata": {
    "collapsed": false
   },
   "outputs": [
    {
     "name": "stdout",
     "output_type": "stream",
     "text": [
      "[[  0.00000000e+00   0.00000000e+00   0.00000000e+00 ...,   0.00000000e+00\n",
      "    0.00000000e+00   0.00000000e+00]\n",
      " [  0.00000000e+00   1.41429633e-06   2.17360371e-06 ...,   2.17360371e-06\n",
      "    1.41429633e-06   0.00000000e+00]\n",
      " [  0.00000000e+00   2.20482439e-06   1.45898816e-07 ...,   1.45898816e-07\n",
      "    2.20482439e-06   0.00000000e+00]\n",
      " ..., \n",
      " [  0.00000000e+00  -6.35061518e-03  -1.52288240e-02 ...,  -1.52288240e-02\n",
      "   -6.35061518e-03   0.00000000e+00]\n",
      " [  0.00000000e+00  -7.32622358e-03  -1.33638594e-02 ...,  -1.33638594e-02\n",
      "   -7.32622358e-03   0.00000000e+00]\n",
      " [  0.00000000e+00   0.00000000e+00   0.00000000e+00 ...,   0.00000000e+00\n",
      "    0.00000000e+00   0.00000000e+00]]\n"
     ]
    }
   ],
   "source": [
    "print (psi[:])"
   ]
  },
  {
   "cell_type": "code",
   "execution_count": 68,
   "metadata": {
    "collapsed": false
   },
   "outputs": [
    {
     "name": "stdout",
     "output_type": "stream",
     "text": [
      "4060 9.99748579551e-07 2.22733131185e-08\n"
     ]
    }
   ],
   "source": [
    "print(iterations, normw, normpsi)"
   ]
  },
  {
   "cell_type": "code",
   "execution_count": 60,
   "metadata": {
    "collapsed": false
   },
   "outputs": [
    {
     "name": "stdout",
     "output_type": "stream",
     "text": [
      "1000 loops, best of 3: 281 µs per loop\n"
     ]
    }
   ],
   "source": [
    "%%timeit\n",
    "mylaplacepoisson_nest(psi0, w0, l1_target)"
   ]
  },
  {
   "cell_type": "code",
   "execution_count": 69,
   "metadata": {
    "collapsed": false
   },
   "outputs": [
    {
     "data": {
      "text/plain": [
       "<matplotlib.contour.QuadContourSet at 0x108d19320>"
      ]
     },
     "execution_count": 69,
     "metadata": {},
     "output_type": "execute_result"
    },
    {
     "data": {
      "image/png": "[encoded data removed]",
      "text/plain": [
       "<matplotlib.figure.Figure at 0x10e48eb00>"
      ]
     },
     "metadata": {},
     "output_type": "display_data"
    }
   ],
   "source": [
    "pyplot.contourf(x,y,psi,10,cmap=cm.viridis)"
   ]
  },
  {
   "cell_type": "code",
   "execution_count": 82,
   "metadata": {
    "collapsed": false
   },
   "outputs": [
    {
     "name": "stdout",
     "output_type": "stream",
     "text": [
      "0.0998451724383 0.0998451724383\n"
     ]
    }
   ],
   "source": [
    "print ((numpy.max(numpy.abs(psi[1:-1,1:-1]))),numpy.max(numpy.abs(psi[:])))"
   ]
  },
  {
   "cell_type": "code",
   "execution_count": 83,
   "metadata": {
    "collapsed": false
   },
   "outputs": [
    {
     "name": "stdout",
     "output_type": "stream",
     "text": [
      "22.5607771651 120.0\n"
     ]
    }
   ],
   "source": [
    "print ((numpy.max(numpy.abs(w[1:-1,1:-1]))),numpy.max(numpy.abs(w[:])))"
   ]
  },
  {
   "cell_type": "code",
   "execution_count": 46,
   "metadata": {
    "collapsed": false
   },
   "outputs": [
    {
     "data": {
      "text/plain": [
       "array([ 0.    , -0.0575, -0.0944, -0.0944, -0.0575,  0.    ])"
      ]
     },
     "execution_count": 46,
     "metadata": {},
     "output_type": "execute_result"
    }
   ],
   "source": [
    "numpy.round(psi[32,::8], 4)"
   ]
  },
  {
   "cell_type": "code",
   "execution_count": null,
   "metadata": {
    "collapsed": false
   },
   "outputs": [],
   "source": []
  },
  {
   "cell_type": "code",
   "execution_count": null,
   "metadata": {
    "collapsed": true
   },
   "outputs": [],
   "source": []
  },
  {
   "cell_type": "code",
   "execution_count": null,
   "metadata": {
    "collapsed": true
   },
   "outputs": [],
   "source": []
  },
  {
   "cell_type": "code",
   "execution_count": null,
   "metadata": {
    "collapsed": true
   },
   "outputs": [],
   "source": []
  },
  {
   "cell_type": "code",
   "execution_count": null,
   "metadata": {
    "collapsed": true
   },
   "outputs": [],
   "source": []
  },
  {
   "cell_type": "code",
   "execution_count": 7,
   "metadata": {
    "collapsed": true
   },
   "outputs": [],
   "source": [
    "#byebye\n",
    "def mylaplacepoisson(psi, w, l1_target):\n",
    "    \n",
    "    iterations = 0\n",
    "    normw = l1_target+1 #init normw to be larger than l1_target\n",
    "    normpsi = l1_target+1 #init normpsi to be larger than l1_target\n",
    "   \n",
    "    while (normw > l1_target): #à priori qd w converge, psi cvg\n",
    "        \n",
    "        w_n = w.copy()\n",
    "        psi_n = psi.copy()\n",
    "        \n",
    "        \n",
    "        for j in range (1,ny-1):\n",
    "            for i in range (1,nx-1):\n",
    "                w[j,i] = .25 * (w_n[j,i-1] + w_n[j,i+1] + w_n[j-1,i] + w_n[j+1,i])\n",
    "                psi[j,i] = 1/(2*(dx**2 + dy**2)) * \\\n",
    "                        ((psi_n[j,i+1] + psi_n[j,i-1])*dy**2 +\\\n",
    "                        (psi_n[j+1,i] + psi_n[j-1,i])*dx**2 +\\\n",
    "                         w[j,i]*dx**2*dy**2)\n",
    "        #Neumann 2nd-order BC\n",
    "       \n",
    "        for j in range (ny):\n",
    "            psi[j,0] = 0\n",
    "            psi[j,-1] = 0\n",
    "            w[j,0] = ((-1/(2*dx**2)) * (8*psi_n[j,1] - psi_n[j,2] )) + 3*uleft/dx\n",
    "            w[j,-1] = ((-1/(2*dx**2)) * (8*psi_n[j,-2] - psi_n[j,-3] )) - 3*uright/dx\n",
    "        for i in range(nx):\n",
    "            psi[0,i] = 0\n",
    "            psi[-1,i] = 0\n",
    "            w[0,i] = ((-1/(2*dy**2)) * (8*psi_n[1,i] - psi_n[2,i] )) + 3*ubottom/dx\n",
    "            w[-1,i] = ((-1/(2*dy**2)) * (8*psi_n[-2,i] - psi_n[-3,i] )) - 3*utop/dy #7*psi pas dans l'énoncé?????\n",
    "            \n",
    "        normw =  L1norm(w_n, w)\n",
    "    \n",
    "        normpsi = L1norm(psi_n, psi)\n",
    "        \n",
    "    \n",
    "        iterations += 1\n",
    "       \n",
    "        \n",
    "    return psi, w, iterations, normw, normpsi"
   ]
  },
  {
   "cell_type": "code",
   "execution_count": null,
   "metadata": {
    "collapsed": true
   },
   "outputs": [],
   "source": [
    "from mpl_toolkits.mplot3d import Axes3D\n",
    "def plot_3D(x, y, psi):\n",
    "    '''Creates 3D plot with appropriate limits and viewing angle\n",
    "    \n",
    "    Parameters:\n",
    "    ----------\n",
    "    x: array of float\n",
    "        nodal coordinates in x\n",
    "    y: array of float\n",
    "        nodal coordinates in y\n",
    "    psi: 2D array of float\n",
    "        calculated potential field\n",
    "    \n",
    "    '''\n",
    "    fig = pyplot.figure(figsize=(11,7), dpi=100)\n",
    "    ax = fig.gca(projection='3d')\n",
    "    X,Y = numpy.meshgrid(x,y)\n",
    "    surf = ax.plot_surface(X,Y,psi[:], rstride=1, cstride=1, cmap=cm.viridis,\n",
    "            linewidth=0, antialiased=False)\n",
    "\n",
    "    ax.set_xlim(0,1)\n",
    "    ax.set_ylim(0,1)\n",
    "    ax.set_xlabel('$x$')\n",
    "    ax.set_ylabel('$y$')\n",
    "    ax.set_zlabel('$z$')\n",
    "    ax.view_init(30,45)"
   ]
  }
 ],
 "metadata": {
  "anaconda-cloud": {},
  "kernelspec": {
   "display_name": "Python [conda root]",
   "language": "python",
   "name": "conda-root-py"
  },
  "language_info": {
   "codemirror_mode": {
    "name": "ipython",
    "version": 3
   },
   "file_extension": ".py",
   "mimetype": "text/x-python",
   "name": "python",
   "nbconvert_exporter": "python",
   "pygments_lexer": "ipython3",
   "version": "3.5.2"
  }
 },
 "nbformat": 4,
 "nbformat_minor": 1
}
