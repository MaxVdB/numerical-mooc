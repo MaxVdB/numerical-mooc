{
 "cells": [
  {
   "cell_type": "markdown",
   "metadata": {},
   "source": [
    "# $$\\underline{Sod's \\ shock \\ tube}$$"
   ]
  },
  {
   "cell_type": "markdown",
   "metadata": {},
   "source": [
    "## Introduction"
   ]
  },
  {
   "cell_type": "markdown",
   "metadata": {},
   "source": [
    "Dans cet exercice, il nous est demandé de résoudre l'équation différentielle partielle couplée suivante:\n",
    "\n",
    "$$\\frac{\\partial}{\\partial t} \\left[ \\begin{array}{c} \\rho \\\\ \\rho u \\\\ \\rho e_T  \\end{array} \\right]  + \\frac{\\partial}{\\partial x} \\left[ \\begin{array}{c} \\rho u \\\\ \\rho u^2 + p \\\\ (\\rho e_T + p) u \\end{array} \\right] =0$$\n",
    "\n",
    "Nous verrons plus tard que ces vecteurs sont respectivements ${\\mathbf{U}}$ et ${\\mathbf{F}}$. \n"
   ]
  },
  {
   "cell_type": "code",
   "execution_count": 61,
   "metadata": {
    "collapsed": true
   },
   "outputs": [],
   "source": [
    "import numpy                       # On importe les extensions comme dans les projets précédents\n",
    "from matplotlib import pyplot                 \n",
    "%matplotlib inline\n",
    "from matplotlib import rcParams\n",
    "rcParams['font.family'] = 'serif'\n",
    "rcParams['font.size'] = 16"
   ]
  },
  {
   "cell_type": "markdown",
   "metadata": {},
   "source": [
    "Soient les conditions initiales du problèmes:"
   ]
  },
  {
   "cell_type": "code",
   "execution_count": 62,
   "metadata": {
    "collapsed": false
   },
   "outputs": [],
   "source": [
    "nx = 81      # Le nombre d'intervalle de longueur dx \n",
    "dx = .25     # La longueur d'un intervalle [m] \n",
    "dt = .0002   # Durée d'un intervalle de temps [s] \n",
    "gamma = 1.4  # Valeur du coefficient de Laplace pour un gaz parfait (trouvée dans l'énoncé) \n",
    "T=.01        # Durée étudiée [s] \n",
    "nt=int(T/dt) # Nombre d'intervalle de temps de durée dt (=50)"
   ]
  },
  {
   "cell_type": "code",
   "execution_count": 63,
   "metadata": {
    "collapsed": true
   },
   "outputs": [],
   "source": [
    "IC=numpy.empty((3,2*nx-1))    # Créons une matrice IC de 3 lignes et 2*nx-1 colonnes où nous plaçons les valeurs\n",
    "for i in range (3):           # initiales du problèmes (1ère ligne est la densité en chaque point, la 2ème est\n",
    "    if i == 0:                # la vitesse en chaque point et la 3ème est la pression en chaque point).\n",
    "        l=1                   # Les valeurs initiales l et r sont respectivement les valeurs à gauche et à droite\n",
    "        r=.125                # dans notre problème.\n",
    "    if i == 1:\n",
    "        l=0\n",
    "        r=0\n",
    "    if i == 2 :\n",
    "        l=100000\n",
    "        r=10000\n",
    "    for k in range (nx):      # On remplit la matrice avec les valeurs de l et r pour chaque ligne.\n",
    "        IC[i,k]=l\n",
    "        IC[i,2*(nx-1)-k]=r\n",
    "    "
   ]
  },
  {
   "cell_type": "markdown",
   "metadata": {
    "collapsed": false
   },
   "source": [
    "Notons que nous multiplions nx par deux pour que nous puissions utliser des indices 1/2. En effet, nous avons maintenant 2*nx pas de longueur dx = 0.125m.\n",
    "\n",
    "D'apres les équations d'Euler, nous savons que les variables conservées sont:\n",
    "\n",
    "\\begin{equation}{\\mathbf{U}} = \\left[ \\begin{array}{c}\n",
    "\\rho \\\\\n",
    "\\rho u \\\\\n",
    "\\rho e_T \\\\ \n",
    "\\end{array} \\right](1)\\end{equation}\n",
    "\n",
    "où ρ est la densité rho, u est la vitesse et $$e_T$$ est l'énergie spécifique totale par unité de masse.\n",
    "On a aussi que:\n",
    "\n",
    "$$e_T = e+\\frac{1}{2} u^2$$\n",
    "\n",
    "et\n",
    "\n",
    "$$e = e(\\rho, p) = \\frac{p}{(\\gamma -1) \\rho}$$\n",
    "\n",
    "où p est la pression et γ est le coefficient de Laplace."
   ]
  },
  {
   "cell_type": "code",
   "execution_count": 64,
   "metadata": {
    "collapsed": false
   },
   "outputs": [],
   "source": [
    "U = numpy.empty((3,2*nx-1))        # On initialise une matrice de trois lignes et 161 colonnes pour prendre\n",
    "for i in range (3):                # les valeurs données par la relation (1) en chaque point de notre\n",
    "    for k in range (2*nx-1):       # échelle d'espace.\n",
    "        if i == 0:\n",
    "            U[i,k]=IC[i,k]\n",
    "        if i == 1:\n",
    "            U[i,k]=IC[i-1,k]*IC[i,k]\n",
    "        if i == 2:\n",
    "            U[i,k]=(IC[i,k]/((gamma-1))+0.5*IC[i-2,k]*(IC[i-1,k]**2))\n",
    "\n",
    "            "
   ]
  },
  {
   "cell_type": "markdown",
   "metadata": {},
   "source": [
    "Nous savons également que le vecteur de flux est défini par:\n",
    "\n",
    "\\begin{equation}{\\mathbf{F}} = \\left[ \\begin{array}{c}\n",
    "\\rho u \\\\\n",
    "\\rho u^2 + p \\\\\n",
    "(\\rho e_T + p) u \\\\ \\end{array} \\right]\n",
    "(2)\\end{equation}\n",
    "\n",
    "Cela nous permet de définir une matrice F reprenant les valeurs initiales de l'exercice."
   ]
  },
  {
   "cell_type": "code",
   "execution_count": 65,
   "metadata": {
    "collapsed": false
   },
   "outputs": [],
   "source": [
    "F=numpy.empty((3,2*nx-1))       # On initialise une matrice comme pour U et la remplissons des valeurs données\n",
    "for i in range(3):              # par la relation (2) en chaque point de notre échelle d'espace. \n",
    "    for k in range (2*nx-1):\n",
    "        if i == 0:\n",
    "            F[i,k]=U[i+1,k]\n",
    "        if i == 1:\n",
    "            F[i,k]=((U[i,k]**2)/U[i-1,k]) + (gamma - 1)*(U[i+1,k] - 0.5*((U[i,k]**2)/U[i-1,k]))\n",
    "        if i == 2: \n",
    "            F[i,k]=(U[i,k] + (gamma - 1)*(U[i,k] - 0.5*((U[i-1,k]**2)/U[i-2,k])))*(U[i-1,k]/U[i-2,k])\n",
    "\n"
   ]
  },
  {
   "cell_type": "markdown",
   "metadata": {},
   "source": [
    "## The Richtmyer Method"
   ]
  },
  {
   "cell_type": "markdown",
   "metadata": {},
   "source": [
    " Nous appliquons ensuite les relations suivantes que nous répetons nt (=50) fois pour avoir les résultats à l'instant demandé.\n",
    " \n",
    " $$\\begin{align}\n",
    "{\\mathbf{U}}^{n+\\frac{1}{2}}_{k+\\frac{1}{2}} &= \\frac{1}{2} \\left( {\\mathbf{U}}^n_{k+1} + {\\mathbf{U}}^n_k \\right) - \n",
    "\\frac{\\Delta t}{2 \\Delta x} \\left( {\\mathbf{F}}^n_{k+1} - {\\mathbf{F}}^n_k\\right)(3) \\\\\n",
    "{\\mathbf{U}}^{n+1}_k &= {\\mathbf{U}}^n_k - \\frac{\\Delta t}{\\Delta x} \\left({\\mathbf{F}}^{n+\\frac{1}{2}}_{k+\\frac{1}{2}} - {\\mathbf{F}}^{n+\\frac{1}{2}}_{k-\\frac{1}{2}} \\right)(4)\n",
    "\\end{align}$$"
   ]
  },
  {
   "cell_type": "code",
   "execution_count": 66,
   "metadata": {
    "collapsed": false
   },
   "outputs": [],
   "source": [
    "for n in range (nt):    \n",
    "    for i in range (3): # On utilise la formule (3) pour les trois lignes et les 161 colonnes de la matrice U,\n",
    "                        # on itère par pas de 2 car dans notre code \"+1\" est égal à \"+1/2\" dans la formule\n",
    "        for k in range(0,2*(nx-1),2): \n",
    "            U[i,k+1]=(0.5*(U[i,k+2]+U[i,k]))-(dt/(2*dx))*(F[i,k+2]-F[i,k])\n",
    "            \n",
    "    for i in range(3):  # Avec les nouvelles valeurs de U, on remplit la matrice F par les relations précédentes\n",
    "        for k in range (0,2*(nx-1),2):\n",
    "            if i == 0:\n",
    "                F[i,k+1]=U[i+1,k+1]\n",
    "            if i == 1:\n",
    "                F[i,k+1]=(U[i,k+1]**2/U[i-1,k+1]) + (gamma-1)*(U[i+1,k+1] - 0.5*(U[i,k+1]**2/U[i-1,k+1]))\n",
    "            if i == 2: \n",
    "                F[i,k+1]=(U[i,k+1] + (gamma - 1)*(U[i,k+1] - 0.5*((U[i-1,k+1]**2)/U[i-2,k+1])))*(U[i-1,k+1]/U[i-2,k+1])\n",
    "    \n",
    "    for i in range (3): # Nous utilisons à présent la formule (3) \n",
    "        for k in range (2,2*(nx-1),2):\n",
    "            U[i,k]=U[i,k]-(dt/dx)*(F[i,k+1]-F[i,k-1])\n",
    "    \n",
    "    for i in range (3):\n",
    "        for k in range (0,2*nx-1,2):\n",
    "            if i == 0:\n",
    "                F[i,k]=U[i+1,k]\n",
    "            if i == 1:\n",
    "                F[i,k]=((U[i,k]**2)/U[i-1,k]) + (gamma - 1)*(U[i+1,k] - 0.5*((U[i,k]**2)/U[i-1,k]))\n",
    "            if i == 2: \n",
    "                F[i,k]=(U[i,k] + (gamma - 1)*(U[i,k] - 0.5*((U[i-1,k]**2)/U[i-2,k])))*(U[i-1,k]/U[i-2,k])\n",
    "\n",
    "            "
   ]
  },
  {
   "cell_type": "markdown",
   "metadata": {},
   "source": [
    "## Simulation Results"
   ]
  },
  {
   "cell_type": "markdown",
   "metadata": {
    "collapsed": true
   },
   "source": [
    "Le milieu du tube étant l'origine de l'axe x et la longueur étudiée étant de 20 mètres, on sait que l'indice n correspondant à x = 2.5m est k = (2.5+10)/0.125 (Où le +10 vient du fait que notre axe commence à -10 et le /0.125 vient du fait que nous avons utilisé des demis indices. Du coup, k=100 pour toutes les réponses suivantes."
   ]
  },
  {
   "cell_type": "markdown",
   "metadata": {},
   "source": [
    "### Question 1"
   ]
  },
  {
   "cell_type": "markdown",
   "metadata": {
    "collapsed": true
   },
   "source": [
    "Quelle est la vitesse en x=2.5m?\n",
    "\n",
    "D'après les formules données, on sait que$$u = \\frac{\\mathbf{U_2}}{\\mathbf{U_1}}$$"
   ]
  },
  {
   "cell_type": "code",
   "execution_count": 67,
   "metadata": {
    "collapsed": false
   },
   "outputs": [
    {
     "name": "stdout",
     "output_type": "stream",
     "text": [
      "292.611471527 m/s est la vitesse en x=2.5m\n"
     ]
    }
   ],
   "source": [
    "k = 100\n",
    "u=U[1,k]/U[0,k]\n",
    "print(u,\"m/s est la vitesse en x=2.5m\")"
   ]
  },
  {
   "cell_type": "markdown",
   "metadata": {},
   "source": [
    "La propagation du gaz est donc très rapide, on voit sur le graphique que la vitesse est à son maximum au centre du tube et est nulle aux extrêmités, ce qui est assez intuitif."
   ]
  },
  {
   "cell_type": "markdown",
   "metadata": {},
   "source": [
    "Après 0.01 seconde, nous obtenons le graphique suivant pour la vitesse en fonction de la position x:"
   ]
  },
  {
   "cell_type": "code",
   "execution_count": 68,
   "metadata": {
    "collapsed": false
   },
   "outputs": [
    {
     "data": {
      "text/plain": [
       "<matplotlib.text.Text at 0x7f903a012f98>"
      ]
     },
     "execution_count": 68,
     "metadata": {},
     "output_type": "execute_result"
    },
    {
     "data": {
      "image/png": "[encoded data removed]",
      "text/plain": [
       "<matplotlib.figure.Figure at 0x7f9039f7bcf8>"
      ]
     },
     "metadata": {},
     "output_type": "display_data"
    }
   ],
   "source": [
    "V=U[1,]/U[0,]\n",
    "pyplot.plot(x, V, color='#003366', ls='--', lw=3)\n",
    "pyplot.ylim(0,500)\n",
    "pyplot.xlabel('x (m)', fontsize=16) \n",
    "pyplot.ylabel('vitesse(m/s)', fontsize=16) "
   ]
  },
  {
   "cell_type": "markdown",
   "metadata": {},
   "source": [
    "### Question 2"
   ]
  },
  {
   "cell_type": "markdown",
   "metadata": {
    "collapsed": true
   },
   "source": [
    "Quelle est la pression en x=2.5m?\n",
    "\n",
    "On sait que: $$p = \\frac{\\mathbf{F_3}}{u} - \\mathbf{U_3}$$"
   ]
  },
  {
   "cell_type": "code",
   "execution_count": 69,
   "metadata": {
    "collapsed": false
   },
   "outputs": [
    {
     "name": "stdout",
     "output_type": "stream",
     "text": [
      "30250.8901676 N/m² est la pression à x=2.5m\n"
     ]
    }
   ],
   "source": [
    "p=F[2,k]/u-U[2,k]\n",
    "print(p,\"N/m² est la pression à x=2.5m\")"
   ]
  },
  {
   "cell_type": "markdown",
   "metadata": {},
   "source": [
    "On voit que la pression est assez élevée et rien qu'après 0.01 seconde, la pression dans la partie droite du tube est déjà beaucoup plus élevée. Celle-ci devrait tendre vers un équilibre dans l'entièreté du tube après un temps de relaxation qui n'a pas été calculé ici."
   ]
  },
  {
   "cell_type": "markdown",
   "metadata": {},
   "source": [
    "Après 0.01 seconde, nous obtenons le graphique suivant pour la pression en fonction de la position x:"
   ]
  },
  {
   "cell_type": "code",
   "execution_count": 70,
   "metadata": {
    "collapsed": false
   },
   "outputs": [
    {
     "data": {
      "text/plain": [
       "<matplotlib.text.Text at 0x7f903a296518>"
      ]
     },
     "execution_count": 70,
     "metadata": {},
     "output_type": "execute_result"
    },
    {
     "data": {
      "image/png": "[encoded data removed]",
      "text/plain": [
       "<matplotlib.figure.Figure at 0x7f9039ec3b38>"
      ]
     },
     "metadata": {},
     "output_type": "display_data"
    }
   ],
   "source": [
    "P=F[2,]/u-U[2,]\n",
    "pyplot.plot(x, P, color='#003366', ls='--', lw=3)\n",
    "pyplot.ylim(0,65000)\n",
    "pyplot.xlabel('x (m)', fontsize=16)  \n",
    "pyplot.ylabel('Pression(N/m²)', fontsize=16) "
   ]
  },
  {
   "cell_type": "markdown",
   "metadata": {},
   "source": [
    "La pression aux extrêmités est nulle, on suppose que le gaz a fusé vers la partie entre -1 et 5 dans le tube, provoquant une dépression à gauche."
   ]
  },
  {
   "cell_type": "markdown",
   "metadata": {},
   "source": [
    "### Question 3"
   ]
  },
  {
   "cell_type": "markdown",
   "metadata": {
    "collapsed": true
   },
   "source": [
    "Quelle est la densité en x=2.5m?\n",
    "\n",
    "Simplement, la densité est donnée par: $$\\rho = \\mathbf{U_1}$$"
   ]
  },
  {
   "cell_type": "markdown",
   "metadata": {},
   "source": [
    "Après 0.01 seconde, nous obtenons le graphique suivant pour la densité en fonction de la position x:"
   ]
  },
  {
   "cell_type": "code",
   "execution_count": 71,
   "metadata": {
    "collapsed": false
   },
   "outputs": [
    {
     "data": {
      "text/plain": [
       "<matplotlib.text.Text at 0x7f9039f412b0>"
      ]
     },
     "execution_count": 71,
     "metadata": {},
     "output_type": "execute_result"
    },
    {
     "data": {
      "image/png": "[encoded data removed]",
      "text/plain": [
       "<matplotlib.figure.Figure at 0x7f9039e2b4a8>"
      ]
     },
     "metadata": {},
     "output_type": "display_data"
    }
   ],
   "source": [
    "D=U[0,]\n",
    "pyplot.plot(x, D, color='#003366', ls='--', lw=3)\n",
    "pyplot.ylim(0,1.5)\n",
    "pyplot.xlabel('x (m)', fontsize=16)  \n",
    "pyplot.ylabel('Densité(kg/m³)', fontsize=16) "
   ]
  },
  {
   "cell_type": "code",
   "execution_count": 72,
   "metadata": {
    "collapsed": false
   },
   "outputs": [
    {
     "name": "stdout",
     "output_type": "stream",
     "text": [
      "0.374691402648 kg/m³ est la densité en x=2.5m\n"
     ]
    }
   ],
   "source": [
    "rho=U[0,k]\n",
    "print(rho,\"kg/m³ est la densité en x=2.5m\")"
   ]
  },
  {
   "cell_type": "markdown",
   "metadata": {},
   "source": [
    "Toujours assez intuitivement, la densité a augmenté dans la partie droite du tube."
   ]
  },
  {
   "cell_type": "markdown",
   "metadata": {},
   "source": [
    "## Conclusion"
   ]
  },
  {
   "cell_type": "markdown",
   "metadata": {},
   "source": [
    "L'algorithme de Richtmyer fonctionne donc assez bien pour nous fournir des données plausibles. Enfin, nous avons observé le comportement du Sod's shock tube."
   ]
  }
 ],
 "metadata": {
  "anaconda-cloud": {},
  "kernelspec": {
   "display_name": "Python [Root]",
   "language": "python",
   "name": "Python [Root]"
  },
  "language_info": {
   "codemirror_mode": {
    "name": "ipython",
    "version": 3
   },
   "file_extension": ".py",
   "mimetype": "text/x-python",
   "name": "python",
   "nbconvert_exporter": "python",
   "pygments_lexer": "ipython3",
   "version": "3.4.5"
  }
 },
 "nbformat": 4,
 "nbformat_minor": 0
}
