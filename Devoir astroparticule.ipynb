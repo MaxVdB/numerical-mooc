{
 "cells": [
  {
   "cell_type": "markdown",
   "metadata": {},
   "source": [
    "# Devoir d'astroparticules "
   ]
  },
  {
   "cell_type": "markdown",
   "metadata": {},
   "source": [
    "Noter que les premiers codes proviennent de la séance 2.\n",
    "## Rappels"
   ]
  },
  {
   "cell_type": "code",
   "execution_count": 118,
   "metadata": {},
   "outputs": [],
   "source": [
    "Z = 26\n",
    "A = 55.85\n",
    "Ec= 5700/(Z+1.47)**0.838 # in GeV\n",
    "alpha = 0.002 #GeV/(g/cm2)\n",
    "beta = alpha/Ec #1/(g/cm2)"
   ]
  },
  {
   "cell_type": "code",
   "execution_count": 119,
   "metadata": {},
   "outputs": [],
   "source": [
    "rho = 7.87 #g/cm^3\n",
    "Rdet = 4. * 6 * rho #Detection range in g/cm2\n",
    "\n",
    "def muon_backprop(emu, X, a, b):\n",
    "\n",
    "    \"\"\"\n",
    "    Calculate the original muon energy given an energy and amount\n",
    "    of material crossed\n",
    "    Inputs:\n",
    "        - emu: current energy\n",
    "        - X: material crossed\n",
    "        - a: ion energy loss coef.\n",
    "        - b: radiaion energy loss coef.\n",
    "    \"\"\"\n",
    "    ec = a/b\n",
    "    return (emu + ec)*np.exp(b*X) - ec\n",
    "\n",
    "#The Energy thershold is the minimum energy needed to cross 4 layers of Iron, ie when E_mu(R) = 0, or X = R:\n",
    "Eth = muon_backprop(0, Rdet, alpha, beta)"
   ]
  },
  {
   "cell_type": "code",
   "execution_count": 120,
   "metadata": {},
   "outputs": [],
   "source": [
    "X0 = 716.4 * A /(Z*(Z+1) * np.log(287/np.sqrt(Z))) # g/cm2\n",
    "Ec = 21 *1e-3 # GeV\n",
    "EMth = Ec * 2**(Rdet/X0)"
   ]
  },
  {
   "cell_type": "code",
   "execution_count": 121,
   "metadata": {},
   "outputs": [],
   "source": [
    "def muons(E, cangle):\n",
    "    fpion = 1./(1.+ 1.1*E*cangle/115.)\n",
    "    fkaon = 0.054/(1.+ 1.1*E*cangle/850.)\n",
    "    return 0.14 *E**-2.7 *(fpion + fkaon)"
   ]
  },
  {
   "cell_type": "code",
   "execution_count": 122,
   "metadata": {},
   "outputs": [],
   "source": [
    "e = np.logspace(0, 6, 51)\n",
    "cangle = np.cos(np.radians(50))\n",
    "X0 = 1.2E5 * 2.65 # Distance in g/cm^2\n",
    "\n",
    "a = 1.677e-3 # GeV cm^2/g\n",
    "b = 3.8e-6 # cm^2/g"
   ]
  },
  {
   "cell_type": "code",
   "execution_count": 123,
   "metadata": {},
   "outputs": [],
   "source": [
    "dcangle = 0.1 #steps of 0.1 in cosine\n",
    "\n",
    "cz = np.arange(np.cos(np.radians(70.)), 1, dcangle)\n",
    "e = np.logspace(0, 6, 200) #in GeV\n",
    "ntop = 0 #flux at the top surface\n",
    "nsid = 0 #flux at the sides surfaces\n",
    "\n",
    "atop0 = 1600 * 4000 #Top area in cm2\n",
    "aside0 = 2 * 140 * 8.5 * (1600 + 4000) #Side area in cm2\n",
    "\n",
    "#Let's do the integral both in energy and angle.\n",
    "\n",
    "for i, energy in enumerate(e[:-1]):\n",
    "    de = e[i+1] -e[i]\n",
    "    for cangle in cz:\n",
    "        X = X0/cangle\n",
    "        flux = muons(muon_backprop(energy, X, a, b), cangle) * de * dcangle\n",
    "        \n",
    "        #Number of muon at the top surface is:\n",
    "        # flux * 2pi * projected_area\n",
    "        ntop += flux * 2 * np.pi * (cangle * atop0)\n",
    "        \n",
    "        #Number of muon at the top surface is:\n",
    "        # flux * 2pi * projected_area\n",
    "        nsid += flux * 2 * np.pi * np.sqrt(1 - cangle**2) * aside0"
   ]
  },
  {
   "cell_type": "markdown",
   "metadata": {},
   "source": [
    "## Devoir"
   ]
  },
  {
   "cell_type": "markdown",
   "metadata": {},
   "source": [
    "Nous allons trouver le taux d'évènement de neutrino atmosphérique ($\\nu_\\mu \\rightarrow \\mu^-$ et $\\bar{\\nu}_\\mu \\rightarrow \\mu^+$) qui interagissent via une interaction CC. Pour ce faire, nous allons utiliser le flux de Honda. Il faut télécharger le fichier correspoondant au site INO avec montagne et maximum solaire. L'analyse suivante est faite sans oscillation de neutrino."
   ]
  },
  {
   "cell_type": "markdown",
   "metadata": {},
   "source": [
    "Une paramétrisation utile des sections efficaces de neutrino CC comme une fonction de l'énergie du lepton sortant est donnée par Gaisser et Stanev (Phys. Rev. D30 (1984) 985):\n",
    "$$\\frac{d\\sigma_\\nu}{dE_\\mu} = \\left[ 0.72+0.06\\left(\\frac{E_\\mu}{E_\\nu}\\right)^2\\right] \\times 10^{-38}cm^2GeV^{-1}$$\n",
    "$$\\frac{d\\sigma_\\bar{\\nu}}{dE_\\mu} = \\left[ 0.09+0.69\\left(\\frac{E_\\mu}{E_\\nu}\\right)^2\\right] \\times 10^{-38}cm^2GeV^{-1}$$\n",
    "Pour la section efficace totale de neutrino utilisée pour calculer \"Earth Shadow\" on peut utiliser $\\sigma_{\\nu p} \\simeq 0.69 \\times 10^{-38}E_\\nu cm^2 $"
   ]
  },
  {
   "cell_type": "markdown",
   "metadata": {},
   "source": [
    "Pour télécharger les fichiers de Honda, on utilise Python, qui va directement télécharger la ressource depuis le web. "
   ]
  },
  {
   "cell_type": "code",
   "execution_count": 124,
   "metadata": {},
   "outputs": [],
   "source": [
    "import gzip\n",
    "import urllib.request\n",
    "\n",
    "url = \"http://www.icrr.u-tokyo.ac.jp/~mhonda/nflx2014/ino-ally-20-01-mtn-solmax.d.gz\"\n",
    "file = urllib.request.urlopen(url)\n",
    "with open(\"honda.gz\", \"wb\") as local_file:\n",
    "    local_file.write(file.read())\n",
    "    \n",
    "inF = gzip.GzipFile(\"honda.gz\", 'rb')\n",
    "s = inF.read()\n",
    "inF.close()\n",
    "\n",
    "outF = open(\"honda.d\", 'wb')\n",
    "outF.write(s)\n",
    "outF.close()"
   ]
  },
  {
   "cell_type": "markdown",
   "metadata": {},
   "source": [
    "Vérifions que le fichier est bien là:"
   ]
  },
  {
   "cell_type": "code",
   "execution_count": 125,
   "metadata": {},
   "outputs": [
    {
     "data": {
      "text/html": [
       "<a href='honda.d' target='_blank'>honda.d</a><br>"
      ],
      "text/plain": [
       "/Users/maxvandenbemden/Desktop/ULB/MASTER/ASTROPARTICULES/honda.d"
      ]
     },
     "execution_count": 125,
     "metadata": {},
     "output_type": "execute_result"
    }
   ],
   "source": [
    "from IPython.display import FileLink, FileLinks\n",
    "FileLink('honda.d')"
   ]
  },
  {
   "cell_type": "markdown",
   "metadata": {},
   "source": [
    "En regardant le fichier on voit que le format est fort complexe, les données sont séparées en 20 blocs d'angle allant de $\\cos\\theta = -1$ jusque $\\cos\\theta = 1$. Chacun de ces blocs d'angle contient 101 entrées qui correspondent à des énergies allant de 0.1 GeV à $10^4$ GeV.\n",
    "\n",
    "Comme le format du fichier est fort complexe, nous devons créer notre propre code pour lire les données. "
   ]
  },
  {
   "cell_type": "code",
   "execution_count": 126,
   "metadata": {},
   "outputs": [],
   "source": [
    "class HondaFlux(object):\n",
    "    \"\"\"Honda average over azimuth\"\"\"\n",
    "    def __init__(self, f, name):\n",
    "        state = 0\n",
    "        self.name = name\n",
    "        self.elog = np.linspace(-1, 4, 101)\n",
    "        self.cz = np.linspace(1, -1, 20)\n",
    "        self.numu = np.zeros((20, 101))\n",
    "        self.numubar = np.zeros((20, 101))\n",
    "        self.nue = np.zeros((20, 101))\n",
    "        self.nuebar = np.zeros((20, 101))\n",
    "        block = 0\n",
    "        for line in f:\n",
    "            state += 1\n",
    "            if state == 1:\n",
    "                cmin = float(line[23:28])\n",
    "                cmax = float(line[32:37])\n",
    "                amin = float(line[48:51])\n",
    "                amax = float(line[54:58])\n",
    "            elif state > 2:\n",
    "                energy, numu, numubar, nue, nuebar = [ float(x) for x in line.split() ]\n",
    "                i = block\n",
    "                k = state - 3\n",
    "                self.numu[i,k] = numu\n",
    "                self.numubar[i,k] = numubar\n",
    "                self.nue[i,k] = nue\n",
    "                self.nuebar[i,k] = nuebar\n",
    "            if state == 103:\n",
    "                state = 0\n",
    "                block += 1"
   ]
  },
  {
   "cell_type": "markdown",
   "metadata": {},
   "source": [
    "Une estimation du taux de détection des évènements neutrinos est équivalent à calculer le taux de flux de muons induits par des neutrinos:\n",
    "$$R(E_{vis},\\theta) = \\int_{E_{vis}} P_{\\nu \\rightarrow l}(E_\\nu, E_{vis})P_{shadow}(\\theta, E_\\nu)\\frac{dN_\\nu}{dE_\\nu}dE_\\nu$$\n",
    "Avec $P_{\\nu \\rightarrow l}(E_\\nu, E_{vis})$, la probabilité qu'un neutrino interagisse avec un noyau pour produire un muon ou un EM ou une cascade hadronique avec une énergie minimale $E_{vis}$ visible dans le détecteur. $P_{shadow}(\\theta, E_\\nu)$, la probabilité qu'un neutrino avec un angle de zénith $\\theta$ et une énergie $E_\\nu$ d'être absorbé par la Terre. $\\frac{dN_\\nu}{dE_\\nu}$ le flux deneutrino à la surface."
   ]
  },
  {
   "cell_type": "code",
   "execution_count": 127,
   "metadata": {},
   "outputs": [],
   "source": [
    "import astropy.constants as cte\n",
    "rho_r = 2.65 #g/cm^3 #la densité de la roche\n",
    "R_E = cte.R_earth.to(\"cm\").value #le rayon de la Terre\n",
    "d = 1200 * 1e2 # la profondeur du détecteur en cm"
   ]
  },
  {
   "cell_type": "markdown",
   "metadata": {},
   "source": [
    "Avec l'exercice 3 on peut construire $X(\\theta)$"
   ]
  },
  {
   "cell_type": "code",
   "execution_count": 128,
   "metadata": {},
   "outputs": [],
   "source": [
    "def X(theta):\n",
    "    if theta == 0:\n",
    "        return rho_r * d \n",
    "    elif theta == np.pi:\n",
    "        return rho_r * (2 * R_E - d) \n",
    "    else: # par l'exercice 3 on a:\n",
    "        gamma = np.pi - theta \n",
    "        beta = np.arcsin((R_E - d)/R_E * np.sin(gamma))\n",
    "        alpha = np.pi - gamma - beta\n",
    "        return rho_r * np.sin(alpha)/np.sin(gamma) * R_E #g/cm^2"
   ]
  },
  {
   "cell_type": "markdown",
   "metadata": {},
   "source": [
    "En utilisant la section efficace totale de l'énoncé on a:"
   ]
  },
  {
   "cell_type": "code",
   "execution_count": 129,
   "metadata": {},
   "outputs": [],
   "source": [
    "def Pshadow(theta, E): \n",
    "        return np.exp(-X(theta)*cte.N_A.value * 0.69 * 1e-38 * E)"
   ]
  },
  {
   "cell_type": "markdown",
   "metadata": {},
   "source": [
    "On peut calculer la probabilité d'interaction, elle est donnée par la formule suivante.\n",
    "$$P_{\\nu\\rightarrow \\mu} = N_A \\int^{E_\\nu}_{E_{vis}} dE_\\mu \\frac{d\\sigma}{dE_\\mu} r_\\mu(E_\\mu,E_{vis})$$ Pour le neutrino muonique la portée est donnée par le muon qui arrive avec une énergie nulle dans le détecteur. On a l'équation\n",
    "$$E_0 = (E(X) + \\epsilon_\\mu)\\exp^{\\beta X} - \\epsilon_\\mu$$ De là on peut facilement dériver la distance traversée par un muon qui comme énergie initiale $E_0$ et qui arrive à l'énergie $E(r)$.\n",
    "$$r_\\mu= \\frac{1}{\\beta}\\log\\frac{\\epsilon + E_0}{\\epsilon + E(r)}$$ Cette expression correspond bien à la portée R quand l'énergie résiduelle est nulle. \n",
    "\n",
    "Enfin on va utiliser la paramétrisation de la section efficace du neutrino de l'énoncé $$\\frac{d\\sigma_\\nu}{dE_\\mu} = \\left[ 0.72+0.06\\left(\\frac{E_\\mu}{E_\\nu}\\right)^2\\right] \\times 10^{-38}cm^2GeV^{-1}$$"
   ]
  },
  {
   "cell_type": "code",
   "execution_count": 130,
   "metadata": {},
   "outputs": [],
   "source": [
    "HondaF = HondaFlux(open(\"honda.d\"), \"INO-SolarMax\")\n",
    "def rmuon(E0, Er, a, b):\n",
    "    return 1/b * np.log((a/b + E0)/(a/b + Er)) # g/cm2"
   ]
  },
  {
   "cell_type": "code",
   "execution_count": 131,
   "metadata": {},
   "outputs": [],
   "source": [
    "def Probint(theta, enu):\n",
    "    eth = muon_backprop(0, Rdet/np.abs(np.cos(theta)), alpha, beta) #énergie de seuil pour être visible dans du Fer\n",
    "    energy = np.logspace(np.log10(eth), np.log10(enu), 300)\n",
    "\n",
    "    Prob = 0\n",
    "    for i, emu in enumerate(energy[:-1]):\n",
    "        deltaE = energy[i + 1] - energy[i]\n",
    "        sigma = (0.72 + 0.06*(emu/enu)**2) * 1e-38 #in cm^2 GeV-1\n",
    "        Prob += cte.N_A.value * sigma * rmuon(emu, eth, a, b) * deltaE\n",
    "    return Prob"
   ]
  },
  {
   "cell_type": "markdown",
   "metadata": {},
   "source": [
    "Le taux sera donné donc donné par une intégrale sur le produit $P_{shadow} \\cdot P_{int}$ par convolution avec le flux de neutrino. "
   ]
  },
  {
   "cell_type": "code",
   "execution_count": 138,
   "metadata": {},
   "outputs": [
    {
     "data": {
      "text/latex": [
       "Le taux de $\\nu_\\mu$ par an est de 88.19"
      ],
      "text/plain": [
       "<IPython.core.display.Latex object>"
      ]
     },
     "execution_count": 138,
     "metadata": {},
     "output_type": "execute_result"
    }
   ],
   "source": [
    "from astropy import units\n",
    "HondaF = HondaFlux(open(\"honda.d\"), \"INO-SolarMax\")\n",
    "\n",
    "rate = 0\n",
    "for i in range(100):\n",
    "    \n",
    "    for j in range(19):\n",
    "        \n",
    "        e = 10**HondaF.elog[i]\n",
    "        deltaE = (10**HondaF.elog[i+1] - 10**HondaF.elog[i]) #DeltaR\n",
    "        theta = np.arccos(HondaF.cz[j])\n",
    "        Psh = Pshadow(theta, e)\n",
    "        Pr = Probint(theta, e)\n",
    "        dcos = np.abs(HondaF.cz[j] - HondaF.cz[j+1])\n",
    "        flux = HondaF.numu[j,i]\n",
    "        \n",
    "        \n",
    "        rate += Psh * Pr * flux * deltaE * dcos\n",
    "\n",
    "Latex(r\"Le taux de $\\nu_\\mu$ par an est de %.2f\" %(rate * 2 * np.pi * units.year.to(units.s)))        "
   ]
  },
  {
   "cell_type": "code",
   "execution_count": 139,
   "metadata": {},
   "outputs": [
    {
     "data": {
      "text/latex": [
       "Le taux de $\\bar{\\nu}_\\mu$ par an est de 90.81"
      ],
      "text/plain": [
       "<IPython.core.display.Latex object>"
      ]
     },
     "execution_count": 139,
     "metadata": {},
     "output_type": "execute_result"
    }
   ],
   "source": [
    "HondaF = HondaFlux(open(\"honda.d\"), \"INO-SolarMax\")\n",
    "\n",
    "ratebar = 0\n",
    "for i in range(100):\n",
    "    \n",
    "    for j in range(19):\n",
    "        \n",
    "        e = 10**HondaF.elog[i]\n",
    "        deltaE = (10**HondaF.elog[i+1] - 10**HondaF.elog[i]) #DeltaR\n",
    "        theta = np.arccos(HondaF.cz[j])\n",
    "        Psh = Pshadow(theta, e)\n",
    "        Pr = Probint(theta, e)\n",
    "        dcos = np.abs(HondaF.cz[j] - HondaF.cz[j+1])\n",
    "        fluxbar = HondaF.numubar[j,i]\n",
    "        \n",
    "        \n",
    "        ratebar += Psh * Pr * fluxbar * deltaE * dcos\n",
    "\n",
    "Latex(r\"Le taux de $\\bar{\\nu}_\\mu$ par an est de %.2f\" %(ratebar * 2 * np.pi * units.year.to(units.s)))        "
   ]
  }
 ],
 "metadata": {
  "kernelspec": {
   "display_name": "Python 3",
   "language": "python",
   "name": "python3"
  },
  "language_info": {
   "codemirror_mode": {
    "name": "ipython",
    "version": 3
   },
   "file_extension": ".py",
   "mimetype": "text/x-python",
   "name": "python",
   "nbconvert_exporter": "python",
   "pygments_lexer": "ipython3",
   "version": "3.6.4"
  }
 },
 "nbformat": 4,
 "nbformat_minor": 2
}
